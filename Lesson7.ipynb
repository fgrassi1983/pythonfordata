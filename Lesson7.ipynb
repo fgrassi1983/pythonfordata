{
 "cells": [
  {
   "cell_type": "markdown",
   "metadata": {},
   "source": [
    "<center>\n",
    "    <h1>\n",
    "            Introduction to Python\n",
    "    </h1></center><p><p>\n",
    "\n",
    "<h3>Lesson six: Introduction to Machine Learning</h3>\n",
    "\n",
    "06/05/2019\n",
    "\n",
    "fabio.grassi@aalto.fi"
   ]
  },
  {
   "cell_type": "markdown",
   "metadata": {},
   "source": [
    "Today, we begin to examine some basic concepts of machine learning (ML). Broadly speaking, machine learning is a field of study focused on algorithms that can adapt to data to produce a desired output.\n",
    "\n",
    "There are three main flavors of ML:\n",
    "\n",
    "* Supervised - The algorithm is given a set of data to learn from, and then uses that information to make predictions about new data.\n",
    "* Unsupervised - The algorithm is given a set of unlabelled data and looks for patterns and similarities.\n",
    "* Reinforcement - Learning \"from scratch\" focused on maximizing a desired outcome.\n",
    "\n",
    "Today, we are going to introduce the basics of supervised machine learning. Supervised machine learning can itself be divided into **regression**, which is focused on predicting the value of a numeric target (e.g. price, weight, area...), and **classification**, which is used to predict a datapoint's **class** (e.g. species, sex, genre...). In our exercise, we will use the **Titanic dataset**, which contains information on passengers of the Titanic, and we are going to attempt to use that information to predict whether individual passengers survived: a **classification** problem.\n",
    "\n",
    "\n",
    "![Titanic](https://upload.wikimedia.org/wikipedia/commons/thumb/f/fd/RMS_Titanic_3.jpg/2560px-RMS_Titanic_3.jpg)\n",
    "\n",
    "## 1. Importing the Data\n",
    "\n",
    "The Titanic dataset can be obtained from several sources. We are going to import it from the Stanford University website using Pandas:"
   ]
  },
  {
   "cell_type": "code",
   "execution_count": 15,
   "metadata": {},
   "outputs": [
    {
     "data": {
      "text/html": [
       "<div>\n",
       "<style scoped>\n",
       "    .dataframe tbody tr th:only-of-type {\n",
       "        vertical-align: middle;\n",
       "    }\n",
       "\n",
       "    .dataframe tbody tr th {\n",
       "        vertical-align: top;\n",
       "    }\n",
       "\n",
       "    .dataframe thead th {\n",
       "        text-align: right;\n",
       "    }\n",
       "</style>\n",
       "<table border=\"1\" class=\"dataframe\">\n",
       "  <thead>\n",
       "    <tr style=\"text-align: right;\">\n",
       "      <th></th>\n",
       "      <th>Survived</th>\n",
       "      <th>Pclass</th>\n",
       "      <th>Name</th>\n",
       "      <th>Sex</th>\n",
       "      <th>Age</th>\n",
       "      <th>Siblings/Spouses Aboard</th>\n",
       "      <th>Parents/Children Aboard</th>\n",
       "      <th>Fare</th>\n",
       "    </tr>\n",
       "  </thead>\n",
       "  <tbody>\n",
       "    <tr>\n",
       "      <th>0</th>\n",
       "      <td>0</td>\n",
       "      <td>3</td>\n",
       "      <td>Mr. Owen Harris Braund</td>\n",
       "      <td>male</td>\n",
       "      <td>22.0</td>\n",
       "      <td>1</td>\n",
       "      <td>0</td>\n",
       "      <td>7.2500</td>\n",
       "    </tr>\n",
       "    <tr>\n",
       "      <th>1</th>\n",
       "      <td>1</td>\n",
       "      <td>1</td>\n",
       "      <td>Mrs. John Bradley (Florence Briggs Thayer) Cum...</td>\n",
       "      <td>female</td>\n",
       "      <td>38.0</td>\n",
       "      <td>1</td>\n",
       "      <td>0</td>\n",
       "      <td>71.2833</td>\n",
       "    </tr>\n",
       "    <tr>\n",
       "      <th>2</th>\n",
       "      <td>1</td>\n",
       "      <td>3</td>\n",
       "      <td>Miss. Laina Heikkinen</td>\n",
       "      <td>female</td>\n",
       "      <td>26.0</td>\n",
       "      <td>0</td>\n",
       "      <td>0</td>\n",
       "      <td>7.9250</td>\n",
       "    </tr>\n",
       "    <tr>\n",
       "      <th>3</th>\n",
       "      <td>1</td>\n",
       "      <td>1</td>\n",
       "      <td>Mrs. Jacques Heath (Lily May Peel) Futrelle</td>\n",
       "      <td>female</td>\n",
       "      <td>35.0</td>\n",
       "      <td>1</td>\n",
       "      <td>0</td>\n",
       "      <td>53.1000</td>\n",
       "    </tr>\n",
       "    <tr>\n",
       "      <th>4</th>\n",
       "      <td>0</td>\n",
       "      <td>3</td>\n",
       "      <td>Mr. William Henry Allen</td>\n",
       "      <td>male</td>\n",
       "      <td>35.0</td>\n",
       "      <td>0</td>\n",
       "      <td>0</td>\n",
       "      <td>8.0500</td>\n",
       "    </tr>\n",
       "  </tbody>\n",
       "</table>\n",
       "</div>"
      ],
      "text/plain": [
       "   Survived  Pclass                                               Name  \\\n",
       "0         0       3                             Mr. Owen Harris Braund   \n",
       "1         1       1  Mrs. John Bradley (Florence Briggs Thayer) Cum...   \n",
       "2         1       3                              Miss. Laina Heikkinen   \n",
       "3         1       1        Mrs. Jacques Heath (Lily May Peel) Futrelle   \n",
       "4         0       3                            Mr. William Henry Allen   \n",
       "\n",
       "      Sex   Age  Siblings/Spouses Aboard  Parents/Children Aboard     Fare  \n",
       "0    male  22.0                        1                        0   7.2500  \n",
       "1  female  38.0                        1                        0  71.2833  \n",
       "2  female  26.0                        0                        0   7.9250  \n",
       "3  female  35.0                        1                        0  53.1000  \n",
       "4    male  35.0                        0                        0   8.0500  "
      ]
     },
     "execution_count": 15,
     "metadata": {},
     "output_type": "execute_result"
    }
   ],
   "source": [
    "import pandas as pd\n",
    "import numpy as np\n",
    "import matplotlib.pyplot as plt\n",
    "\n",
    "titanic = pd.read_csv(\"http://web.stanford.edu/class/archive/cs/cs109/cs109.1166/stuff/titanic.csv\")\n",
    "titanic.head()"
   ]
  },
  {
   "cell_type": "markdown",
   "metadata": {},
   "source": [
    "Our dataset contains eight columns:\n",
    "\n",
    "* Survived - This is our target column, the variable we want to be able to predict.\n",
    "* Pclass - Passenger class (First, second, third)\n",
    "* Name\n",
    "* Sex\n",
    "* Age\n",
    "* Siblings/Spouses Aboard\n",
    "* Parents/Children Aboard\n",
    "* Fare\n",
    "\n",
    "## 2. Processing the Data\n",
    "\n",
    "We can see that two columns, Name and Sex, contain text data. <b><u><font color=#b00000>Machine learning algorithms only process numeric data.</u></b></font> This means that, before we can feed the data to an algorithm, we need to make some changes to our dataset, which depend entirely on our data. In our case, the first non-numeric variable is *Name*. It is probably safe to assume that a passenger's name is a poor predictor for survival, so we are just going to discard this variable. The other one is *Sex*. Let us investigate how it correlates with *Surivival*:"
   ]
  },
  {
   "cell_type": "code",
   "execution_count": 16,
   "metadata": {},
   "outputs": [
    {
     "name": "stdout",
     "output_type": "stream",
     "text": [
      "Sex     Survived\n",
      "female  0            81\n",
      "        1           233\n",
      "male    0           464\n",
      "        1           109\n",
      "dtype: int64\n"
     ]
    }
   ],
   "source": [
    "sexsurvived = titanic.groupby(by=[\"Sex\",\"Survived\"]).size() # The size() method returns the number of items.\n",
    "print(sexsurvived)"
   ]
  },
  {
   "cell_type": "markdown",
   "metadata": {},
   "source": [
    "Interesting. Let us now visualize this data."
   ]
  },
  {
   "cell_type": "code",
   "execution_count": 17,
   "metadata": {},
   "outputs": [
    {
     "data": {
      "image/png": "[encoded data removed]",
      "text/plain": [
       "<Figure size 432x288 with 1 Axes>"
      ]
     },
     "metadata": {
      "needs_background": "light"
     },
     "output_type": "display_data"
    }
   ],
   "source": [
    "plt.barh([0,1,2,3],\n",
    "         sexsurvived)\n",
    "plt.yticks([0,1,2,3],\n",
    "           labels=[\"Female Drowned\", \"Female Survived\", \"Male Drowned\", \"Male Survived\"])\n",
    "plt.show()"
   ]
  },
  {
   "cell_type": "markdown",
   "metadata": {},
   "source": [
    "Many men chose the path of honor on that fateful night.\n",
    "\n",
    "Sex appears to be correlated with survival rates, and it would be unwise to discard it. We must, however, convert it to a numeric variable for our algorithms to be able to use it. In this case, we can do so by replacing \"female\" and \"male\" with 0 and 1:"
   ]
  },
  {
   "cell_type": "code",
   "execution_count": 18,
   "metadata": {},
   "outputs": [
    {
     "data": {
      "text/html": [
       "<div>\n",
       "<style scoped>\n",
       "    .dataframe tbody tr th:only-of-type {\n",
       "        vertical-align: middle;\n",
       "    }\n",
       "\n",
       "    .dataframe tbody tr th {\n",
       "        vertical-align: top;\n",
       "    }\n",
       "\n",
       "    .dataframe thead th {\n",
       "        text-align: right;\n",
       "    }\n",
       "</style>\n",
       "<table border=\"1\" class=\"dataframe\">\n",
       "  <thead>\n",
       "    <tr style=\"text-align: right;\">\n",
       "      <th></th>\n",
       "      <th>Survived</th>\n",
       "      <th>Pclass</th>\n",
       "      <th>Name</th>\n",
       "      <th>Sex</th>\n",
       "      <th>Age</th>\n",
       "      <th>Siblings/Spouses Aboard</th>\n",
       "      <th>Parents/Children Aboard</th>\n",
       "      <th>Fare</th>\n",
       "    </tr>\n",
       "  </thead>\n",
       "  <tbody>\n",
       "    <tr>\n",
       "      <th>0</th>\n",
       "      <td>0</td>\n",
       "      <td>3</td>\n",
       "      <td>Mr. Owen Harris Braund</td>\n",
       "      <td>1</td>\n",
       "      <td>22.0</td>\n",
       "      <td>1</td>\n",
       "      <td>0</td>\n",
       "      <td>7.2500</td>\n",
       "    </tr>\n",
       "    <tr>\n",
       "      <th>1</th>\n",
       "      <td>1</td>\n",
       "      <td>1</td>\n",
       "      <td>Mrs. John Bradley (Florence Briggs Thayer) Cum...</td>\n",
       "      <td>0</td>\n",
       "      <td>38.0</td>\n",
       "      <td>1</td>\n",
       "      <td>0</td>\n",
       "      <td>71.2833</td>\n",
       "    </tr>\n",
       "    <tr>\n",
       "      <th>2</th>\n",
       "      <td>1</td>\n",
       "      <td>3</td>\n",
       "      <td>Miss. Laina Heikkinen</td>\n",
       "      <td>0</td>\n",
       "      <td>26.0</td>\n",
       "      <td>0</td>\n",
       "      <td>0</td>\n",
       "      <td>7.9250</td>\n",
       "    </tr>\n",
       "    <tr>\n",
       "      <th>3</th>\n",
       "      <td>1</td>\n",
       "      <td>1</td>\n",
       "      <td>Mrs. Jacques Heath (Lily May Peel) Futrelle</td>\n",
       "      <td>0</td>\n",
       "      <td>35.0</td>\n",
       "      <td>1</td>\n",
       "      <td>0</td>\n",
       "      <td>53.1000</td>\n",
       "    </tr>\n",
       "    <tr>\n",
       "      <th>4</th>\n",
       "      <td>0</td>\n",
       "      <td>3</td>\n",
       "      <td>Mr. William Henry Allen</td>\n",
       "      <td>1</td>\n",
       "      <td>35.0</td>\n",
       "      <td>0</td>\n",
       "      <td>0</td>\n",
       "      <td>8.0500</td>\n",
       "    </tr>\n",
       "  </tbody>\n",
       "</table>\n",
       "</div>"
      ],
      "text/plain": [
       "   Survived  Pclass                                               Name  Sex  \\\n",
       "0         0       3                             Mr. Owen Harris Braund    1   \n",
       "1         1       1  Mrs. John Bradley (Florence Briggs Thayer) Cum...    0   \n",
       "2         1       3                              Miss. Laina Heikkinen    0   \n",
       "3         1       1        Mrs. Jacques Heath (Lily May Peel) Futrelle    0   \n",
       "4         0       3                            Mr. William Henry Allen    1   \n",
       "\n",
       "    Age  Siblings/Spouses Aboard  Parents/Children Aboard     Fare  \n",
       "0  22.0                        1                        0   7.2500  \n",
       "1  38.0                        1                        0  71.2833  \n",
       "2  26.0                        0                        0   7.9250  \n",
       "3  35.0                        1                        0  53.1000  \n",
       "4  35.0                        0                        0   8.0500  "
      ]
     },
     "execution_count": 18,
     "metadata": {},
     "output_type": "execute_result"
    }
   ],
   "source": [
    "titanic[\"Sex\"] = [1 if i == \"male\" else 0 for i in titanic.Sex]\n",
    "titanic.head()"
   ]
  },
  {
   "cell_type": "markdown",
   "metadata": {},
   "source": [
    "Let us now combine this data with passenger class."
   ]
  },
  {
   "cell_type": "code",
   "execution_count": 19,
   "metadata": {},
   "outputs": [
    {
     "data": {
      "image/png": "[encoded data removed]",
      "text/plain": [
       "<Figure size 432x288 with 1 Axes>"
      ]
     },
     "metadata": {
      "needs_background": "light"
     },
     "output_type": "display_data"
    }
   ],
   "source": [
    "sexsurvived1stclass = np.array(titanic.loc[titanic.Pclass == 1].groupby(by=[\"Sex\",\"Survived\"]).size())\n",
    "sexsurvived2ndclass = np.array(titanic.loc[titanic.Pclass == 2].groupby(by=[\"Sex\",\"Survived\"]).size())\n",
    "sexsurvived3rdclass = np.array(titanic.loc[titanic.Pclass == 3].groupby(by=[\"Sex\",\"Survived\"]).size())\n",
    "\n",
    "plt.barh([0,1,2,3],\n",
    "         sexsurvived1stclass,\n",
    "         label = \"1st Class\")\n",
    "\n",
    "plt.barh([0,1,2,3],\n",
    "         sexsurvived2ndclass,\n",
    "         left = sexsurvived1stclass, # Using \"left\" option for stacking, to make this bar start where the previous ended.\n",
    "         label = \"2nd Class\",)\n",
    "\n",
    "plt.barh([0,1,2,3],\n",
    "         sexsurvived3rdclass,\n",
    "         left = sexsurvived1stclass + sexsurvived2ndclass, # As above.\n",
    "         label = \"3rd Class\")\n",
    "\n",
    "plt.yticks([0,1,2,3],\n",
    "           labels=[\"Female Drowned\", \"Female Survived\", \"Male Drowned\", \"Male Survived\"])\n",
    "\n",
    "plt.legend()\n",
    "\n",
    "plt.show()"
   ]
  },
  {
   "cell_type": "markdown",
   "metadata": {},
   "source": [
    "To the surprise of exactly no one, the rich seemed to find room on the lifeboats with relative ease, while the plebs were far more likely to sink into Poseidon's cold embrace."
   ]
  },
  {
   "cell_type": "markdown",
   "metadata": {},
   "source": [
    "When solving a real world problem, we would probably spend a significant length of time investigating all features and how they  relate to each other and to our target variable, with the goal of dropping the ones we do not need. This is done to avoid the so called **curse of dimensionality**, which means that if we feed too much unrelated information to our model, it will slow it down, and with some (not all) algorithms, it may even negatively affect our model's performance. Because with our toy problem we have so few features and data, and because we have very limited time, we are going to skip this part for now and use all features available. \n",
    "\n",
    "Let us now make sure that we do not have any missing values:"
   ]
  },
  {
   "cell_type": "code",
   "execution_count": 20,
   "metadata": {},
   "outputs": [
    {
     "name": "stdout",
     "output_type": "stream",
     "text": [
      "<class 'pandas.core.frame.DataFrame'>\n",
      "RangeIndex: 887 entries, 0 to 886\n",
      "Data columns (total 8 columns):\n",
      "Survived                   887 non-null int64\n",
      "Pclass                     887 non-null int64\n",
      "Name                       887 non-null object\n",
      "Sex                        887 non-null int64\n",
      "Age                        887 non-null float64\n",
      "Siblings/Spouses Aboard    887 non-null int64\n",
      "Parents/Children Aboard    887 non-null int64\n",
      "Fare                       887 non-null float64\n",
      "dtypes: float64(2), int64(5), object(1)\n",
      "memory usage: 55.5+ KB\n"
     ]
    }
   ],
   "source": [
    "titanic.info()"
   ]
  },
  {
   "cell_type": "markdown",
   "metadata": {},
   "source": [
    "It seems that we have no missing values in our dataset. We are almost ready to start."
   ]
  },
  {
   "cell_type": "markdown",
   "metadata": {},
   "source": [
    "## 3. Splitting the Data\n",
    "\n",
    "One important thing to remember about supervised machine learning is that we should not feed *all* our data to the algorithm. Suppose we were tasked with teaching a boy how to do basic sums, one way we could attempt this is by showing him a lot of sums, e.g:\n",
    "\n",
    "<p>\n",
    "<center>\n",
    "<font color =#0000ff>1+1 = 2</font><br>\n",
    "    <font color =#9933bb>2+3 = 5</font><br>\n",
    "    <font color =#006699>7+3 = 10</font><br>\n",
    "    <font color =#669966>10+1 = 11</font><br>\n",
    "    <font color =#bbbb33>4+15 = 19</font>\n",
    "</center>\n",
    "\n",
    "If we were then to test his progress, we would likely ask the boy to calculate a few sums for us. But what sums? If we ask the boy to calculate the ones we just showed him, i.e. <font color =#0000ff>1+1</font>, <font color =#9933bb>2+3</font>, <font color =#006699>7+3</font>, <font color =#669966>10+1</font>, and <font color =#bbbb33>4+15</font>, how will we know that he did not just memorize those results? If we wanted to be confident that he actually understood the underlying principle, we would need to have him calculate sums he has never encountered before, e.g. <font color=#aa0000><b>15+15</b></font>.\n",
    "\n",
    "Likewise, in order to measure the performance of our model, we need to test it on some data it has never seen before. This is why it is common practice to split the dataset into **training** and **test** data. Lucky for us, this is easily accomplished using the tools available in one of the most popular Python machine learning libraries, **scikit-learn**:"
   ]
  },
  {
   "cell_type": "code",
   "execution_count": 21,
   "metadata": {},
   "outputs": [],
   "source": [
    "from sklearn.model_selection import train_test_split\n",
    "\n",
    "features = [\"Pclass\", \"Sex\", \"Age\", \"Siblings/Spouses Aboard\", \"Parents/Children Aboard\", \"Fare\"]\n",
    "\n",
    "traindata, testdata, traintarget, testtarget = train_test_split(titanic[features],\n",
    "                                                                titanic.Survived, \n",
    "                                                                random_state=10)\n",
    "\n",
    "# random_state is an optional argument to ensure that the same split is generated every time,\n",
    "# for reproducibility."
   ]
  },
  {
   "cell_type": "markdown",
   "metadata": {},
   "source": [
    "Now that our data is nicely split, there is one last step before we can run it through an algorithm: scaling. Scaling can be easily understood by looking at the values of *Siblings/Spouses Aboard* and *Fare*: the former only has values ranging from 0 to 8 and a standard deviation of 1.1, while the latter goes all the way up to 500 and has a standard deviation of 49.8. This could mean that *Fare* will play a more important role than it should, because some algorithms use euclidean distances. By scaling our data, ensure that they all have the same influence.\n",
    "\n",
    "A very common (but definitely not the only) way to rescale the data is to use scikit-learn's *StandardScaler*. As with many other scikit-learn modules, we will first use its *fit_transform* method to rescale based on the training data, and subsequently we will use the *transform* method on the test data."
   ]
  },
  {
   "cell_type": "code",
   "execution_count": 22,
   "metadata": {},
   "outputs": [
    {
     "name": "stderr",
     "output_type": "stream",
     "text": [
      "C:\\Users\\grassif1\\AppData\\Local\\Continuum\\anaconda3\\lib\\site-packages\\sklearn\\preprocessing\\data.py:625: DataConversionWarning: Data with input dtype int64, float64 were all converted to float64 by StandardScaler.\n",
      "  return self.partial_fit(X, y)\n",
      "C:\\Users\\grassif1\\AppData\\Local\\Continuum\\anaconda3\\lib\\site-packages\\sklearn\\base.py:462: DataConversionWarning: Data with input dtype int64, float64 were all converted to float64 by StandardScaler.\n",
      "  return self.fit(X, **fit_params).transform(X)\n",
      "C:\\Users\\grassif1\\AppData\\Local\\Continuum\\anaconda3\\lib\\site-packages\\ipykernel_launcher.py:4: DataConversionWarning: Data with input dtype int64, float64 were all converted to float64 by StandardScaler.\n",
      "  after removing the cwd from sys.path.\n"
     ]
    }
   ],
   "source": [
    "from sklearn.preprocessing import StandardScaler\n",
    "ss = StandardScaler()\n",
    "sstraindata = ss.fit_transform(traindata)\n",
    "sstestdata = ss.transform(testdata)"
   ]
  },
  {
   "cell_type": "markdown",
   "metadata": {},
   "source": [
    "We are finally ready to try some algorithms. According to the **no free lunch theorem**, there is no sure way of knowing which algorithm will work best for your data, so as a general rule, it is a good idea to try several, and see which one has the best performance. Today, we are going to try Logistic Regression, Random Forest, Support Vector Classifier, and K-Nearest Neighbors."
   ]
  },
  {
   "cell_type": "code",
   "execution_count": 23,
   "metadata": {},
   "outputs": [],
   "source": [
    "from sklearn.linear_model import LogisticRegression\n",
    "from sklearn.ensemble import RandomForestClassifier\n",
    "from sklearn.svm import SVC\n",
    "from sklearn.neighbors import KNeighborsClassifier"
   ]
  },
  {
   "cell_type": "code",
   "execution_count": 24,
   "metadata": {},
   "outputs": [],
   "source": [
    "l = LogisticRegression()\n",
    "rf = RandomForestClassifier()\n",
    "svc = SVC()\n",
    "knn = KNeighborsClassifier()"
   ]
  },
  {
   "cell_type": "code",
   "execution_count": 25,
   "metadata": {},
   "outputs": [
    {
     "name": "stderr",
     "output_type": "stream",
     "text": [
      "C:\\Users\\grassif1\\AppData\\Local\\Continuum\\anaconda3\\lib\\site-packages\\sklearn\\linear_model\\logistic.py:433: FutureWarning: Default solver will be changed to 'lbfgs' in 0.22. Specify a solver to silence this warning.\n",
      "  FutureWarning)\n",
      "C:\\Users\\grassif1\\AppData\\Local\\Continuum\\anaconda3\\lib\\site-packages\\sklearn\\ensemble\\forest.py:246: FutureWarning: The default value of n_estimators will change from 10 in version 0.20 to 100 in 0.22.\n",
      "  \"10 in version 0.20 to 100 in 0.22.\", FutureWarning)\n"
     ]
    },
    {
     "data": {
      "text/plain": [
       "KNeighborsClassifier(algorithm='auto', leaf_size=30, metric='minkowski',\n",
       "           metric_params=None, n_jobs=None, n_neighbors=5, p=2,\n",
       "           weights='uniform')"
      ]
     },
     "execution_count": 25,
     "metadata": {},
     "output_type": "execute_result"
    }
   ],
   "source": [
    "l.fit(sstraindata,traintarget)\n",
    "rf.fit(sstraindata,traintarget)\n",
    "svc.fit(sstraindata,traintarget)\n",
    "knn.fit(sstraindata,traintarget)"
   ]
  },
  {
   "cell_type": "markdown",
   "metadata": {},
   "source": [
    "And now, let us see how well our algorithms did. We are going to use two metrics: confusion matrix, and accuracy score.\n",
    "\n",
    "The confusion matrix is a square, n by n matrix, with n being the number of outcome classes, where every row tells us, for the elements of every class, what our algorithms classified them as. The diagonal elements represent the correct ones, the off diagonal elements are the misclassified data points. Example: suppose we were predicting whether a sports game will end with a win for the home team (\"H\"), a win for the away team (\"A\"), or a draw (\"D\"). Our confusion matrix could look something like this:\n",
    "\n",
    "       H  A  D\n",
    "    H 11, 1, 3\n",
    "    A 5, 35, 1\n",
    "    D 9, 6, 34\n",
    "    \n",
    "This would mean that our algorithm correctly classified 11 H as H, while it incorrectly classified one H as A, and 3 H as D. It classified 5 A as H, 35 A as A, and one A as D, and so on.\n",
    "\n",
    "Accuracy score is the fraction of correctly classified items (in the example above, (11 + 34 + 35)/100 = 0.8)."
   ]
  },
  {
   "cell_type": "code",
   "execution_count": 26,
   "metadata": {},
   "outputs": [
    {
     "name": "stdout",
     "output_type": "stream",
     "text": [
      "Logistic Regression Confusion Matrix:\n",
      " [[123  18]\n",
      " [ 26  55]] \n",
      "Accuracy:\n",
      " 0.8018018018018018 \n",
      "\n",
      "Random Forest Confusion Matrix:\n",
      " [[124  17]\n",
      " [ 29  52]] \n",
      "Accuracy:\n",
      " 0.7927927927927928 \n",
      "\n",
      "SVC Confusion Matrix:\n",
      " [[127  14]\n",
      " [ 25  56]] \n",
      "Accuracy:\n",
      " 0.8243243243243243 \n",
      "\n",
      "KNN Confusion Matrix:\n",
      " [[115  26]\n",
      " [ 23  58]] \n",
      "Accuracy:\n",
      " 0.7792792792792793 \n",
      "\n"
     ]
    }
   ],
   "source": [
    "from sklearn.metrics import confusion_matrix, accuracy_score\n",
    "\n",
    "print(\"Logistic Regression Confusion Matrix:\\n\",\n",
    "      confusion_matrix(testtarget, l.predict(sstestdata)),\n",
    "      \"\\nAccuracy:\\n\",\n",
    "      accuracy_score(testtarget,l.predict(sstestdata)),\n",
    "      \"\\n\"\n",
    "     )\n",
    "print(\"Random Forest Confusion Matrix:\\n\",\n",
    "      confusion_matrix(testtarget, rf.predict(sstestdata)),\n",
    "      \"\\nAccuracy:\\n\",\n",
    "      accuracy_score(testtarget,rf.predict(sstestdata)),\n",
    "      \"\\n\"\n",
    "     )\n",
    "print(\"SVC Confusion Matrix:\\n\",\n",
    "      confusion_matrix(testtarget, svc.predict(sstestdata)),\n",
    "      \"\\nAccuracy:\\n\",\n",
    "      accuracy_score(testtarget,svc.predict(sstestdata)),\n",
    "      \"\\n\"\n",
    "     )\n",
    "print(\"KNN Confusion Matrix:\\n\",\n",
    "      confusion_matrix(testtarget, knn.predict(sstestdata)),\n",
    "      \"\\nAccuracy:\\n\",\n",
    "      accuracy_score(testtarget,knn.predict(sstestdata)),\n",
    "      \"\\n\"\n",
    "     )"
   ]
  },
  {
   "cell_type": "markdown",
   "metadata": {},
   "source": [
    "And now, let's try with the non-scaled data..."
   ]
  },
  {
   "cell_type": "code",
   "execution_count": 27,
   "metadata": {},
   "outputs": [
    {
     "name": "stdout",
     "output_type": "stream",
     "text": [
      "Logistic Regression Confusion Matrix:\n",
      " [[126  15]\n",
      " [ 28  53]] \n",
      "Accuracy:\n",
      " 0.8063063063063063 \n",
      "\n",
      "Random Forest Confusion Matrix:\n",
      " [[119  22]\n",
      " [ 30  51]] \n",
      "Accuracy:\n",
      " 0.7657657657657657 \n",
      "\n",
      "SVC Confusion Matrix:\n",
      " [[115  26]\n",
      " [ 52  29]] \n",
      "Accuracy:\n",
      " 0.6486486486486487 \n",
      "\n",
      "KNN Confusion Matrix:\n",
      " [[100  41]\n",
      " [ 33  48]] \n",
      "Accuracy:\n",
      " 0.6666666666666666 \n",
      "\n"
     ]
    },
    {
     "name": "stderr",
     "output_type": "stream",
     "text": [
      "C:\\Users\\grassif1\\AppData\\Local\\Continuum\\anaconda3\\lib\\site-packages\\sklearn\\linear_model\\logistic.py:433: FutureWarning: Default solver will be changed to 'lbfgs' in 0.22. Specify a solver to silence this warning.\n",
      "  FutureWarning)\n",
      "C:\\Users\\grassif1\\AppData\\Local\\Continuum\\anaconda3\\lib\\site-packages\\sklearn\\svm\\base.py:196: FutureWarning: The default value of gamma will change from 'auto' to 'scale' in version 0.22 to account better for unscaled features. Set gamma explicitly to 'auto' or 'scale' to avoid this warning.\n",
      "  \"avoid this warning.\", FutureWarning)\n"
     ]
    }
   ],
   "source": [
    "from sklearn.metrics import confusion_matrix, accuracy_score\n",
    "\n",
    "l.fit(traindata,traintarget)\n",
    "rf.fit(traindata,traintarget)\n",
    "svc.fit(traindata,traintarget)\n",
    "knn.fit(traindata,traintarget)\n",
    "\n",
    "print(\"Logistic Regression Confusion Matrix:\\n\",\n",
    "      confusion_matrix(testtarget, l.predict(testdata)),\n",
    "      \"\\nAccuracy:\\n\",\n",
    "      accuracy_score(testtarget,l.predict(testdata)),\n",
    "      \"\\n\"\n",
    "     )\n",
    "print(\"Random Forest Confusion Matrix:\\n\",\n",
    "      confusion_matrix(testtarget, rf.predict(testdata)),\n",
    "      \"\\nAccuracy:\\n\",\n",
    "      accuracy_score(testtarget,rf.predict(testdata)),\n",
    "      \"\\n\"\n",
    "     )\n",
    "print(\"SVC Confusion Matrix:\\n\",\n",
    "      confusion_matrix(testtarget, svc.predict(testdata)),\n",
    "      \"\\nAccuracy:\\n\",\n",
    "      accuracy_score(testtarget,svc.predict(testdata)),\n",
    "      \"\\n\"\n",
    "     )\n",
    "print(\"KNN Confusion Matrix:\\n\",\n",
    "      confusion_matrix(testtarget, knn.predict(testdata)),\n",
    "      \"\\nAccuracy:\\n\",\n",
    "      accuracy_score(testtarget,knn.predict(testdata)),\n",
    "      \"\\n\"\n",
    "     )"
   ]
  },
  {
   "cell_type": "markdown",
   "metadata": {},
   "source": [
    "As you can see, we get mixed results. Some algorithms are more robust to unscaled data than others, for example the performance of the Logistic Regression (+0.5%) and Random Forest (-0.4%) algorithms was virtually unchanged. SVC on the other hand went from being the best performing to the worst algorithm, with a drop in accuracy of over 17%. KNN also reported a noticeable decrease in accuracy (13%).\n",
    "\n",
    "This is not the end of a machine learning project: normally, at this point we would then reiterate the process, try some feature engineering, use the information we can extract from our results to improve the models, and fine tune our model's parameters, as we will see in future lectures."
   ]
  },
  {
   "cell_type": "code",
   "execution_count": 15,
   "metadata": {},
   "outputs": [],
   "source": [
    "a = \"\"\"Ability to learn new things\n",
    "It has been clear to me what I am expected to learn on the courses.\n",
    "Basic education\n",
    "I feel that I am losing interest in my studies.\n",
    "I have been satisfied with the teaching methods used.\n",
    "Ability to act ethically\n",
    "I often sleep badly because of matters related to my studies.\n",
    "I am certain I can understand even the most difficult material in my studies.\n",
    "Ability to work internationally\n",
    "Ability in your minor subject studies\n",
    "I have learned to analyse and categorise information.\n",
    "Ability in your major subject / programme\n",
    "My survey responses will be kept confidential and they can be used for research purposes.\n",
    "Skills in human resources / management\n",
    "What we are taught seems to match what we are supposed to learn.\n",
    "The set work (final exams, exercises etc.) has helped me to make connections between the things I am studying and my existing knowledge.\n",
    "The feedback given on my assigned work has helped me to clarify things I had not fully understood.\n",
    "Mathematical and natural science skills\n",
    "If you answered Yes to the question above, what are the reasons for your studies being delayed? You may choose a maximum of three (3) options from the list below.\n",
    "Which degree programme have you graduated from or are going to graduate from?\n",
    "Overall, I have been systematic and organised in my studying.\n",
    "The pressure of my studies causes problems in my close relationships with others.\n",
    "I am satisfied with my studies.\n",
    "Self-knowledge\n",
    "Communication skills in the second national language (Finnish or Swedish)\n",
    "I have received enough feedback about my learning.\n",
    "My studies have developed my collaboration skills.\n",
    "I have been satisfied with the communication I have had with the teaching staff.\n",
    "I have often had to repeat things in order to learn them.\n",
    "My education has met the set goals.\n",
    "I feel a lack of study motivation and often think of giving up.\n",
    "I have planned my studies so that I can fit everything in.\n",
    "Entrepreneurial skills\n",
    "What other reasons were there that you feel delayed your studies?\n",
    "I believe I will do well in my studies.\n",
    "I have organised my study time carefully to make the best use of it.\n",
    "Information retrieval skills\n",
    "If you answered Yes to the question above, please estimate how many months your working has slowed down or accelerated your studies:\n",
    "The competences I have developed in my education meet my expectations.\n",
    "I expect to do well in my studies.\n",
    "NULL\n",
    "Entrepreneurial skills, theoretical knowledge\n",
    "I believe that I have been able to work comfortably with other students during courses.\n",
    "It has been easy for me to find information and support regarding different aspects of my studies.\n",
    "My survey responses can be enriched with student register data if needed for research use.\n",
    "I have learned to apply theoretical knowledge to practice.\n",
    "Know-how related to my field of study\n",
    "I have tried to relate what I learn in one course to what I have learned in other courses.\n",
    "I feel overwhelmed by the work related to my studies.\n",
    "I feel comfortable at my university.\n",
    "During my studies I have tried to relate new material to my previous knowledge.\n",
    "I am continually wondering whether my studies have any meaning.\n",
    "I have learned how to present my views in different interaction situations.\n",
    "General knowledge of economics\n",
    "The feedback given on my work has helped me to improve my ways of learning and studying.\n",
    "Competence in sustainability\n",
    "I used to expect I would achieve much more in my studies than I expect now.\n",
    "Studying at the university has developed my skills in acting as a member of a group.\n",
    "Much of what I have learned seems nothing more than unrelated bits and pieces.\n",
    "IT skills\n",
    "Do you feel that your studies were delayed for some reason?\n",
    "Has working during your studies affected the progress of your studies?\n",
    "Ideas and perspectives I came across during my studies have made me contemplate them afterwards.\n",
    "I can see the relevance of what we have been taught.\n",
    "The teaching has been, to a large extent, of good quality.\n",
    "During my free time I worry over matters related to my studies.\n",
    "Competence in sustainable development\n",
    "Ability to present in public\n",
    "I have learned to present arguments for my thoughts.\n",
    "There has been sufficient guidance available for the organisation of my studies.\n",
    "I have got support and help from other students when I have needed it.\n",
    "What is your major / specialisation track?\n",
    "The feedback I received from the teaching staff has helped me with my studies.\n",
    "General leadership skills\n",
    "It has been clear to me what has been expected of me in final exams, exercises, essays, course presentations etc.\n",
    "I am certain I can learn the skills required in my study field.\n",
    "I have learned to solve problems in practical situations.\n",
    "When needed, I have found a person whom to ask for help.\n",
    "There has been sufficient guidance available for the preparation of my bachelor’s thesis or final exam.\n",
    "Gender\n",
    "I have been satisfied with the opportunities I had to influence and participate in my study programme (e.g. participating in curriculum planning, and opportunities to give feedback).\n",
    "I have carefully looked for evidence to reach my own conclusions about what I am studying.\n",
    "I have often had trouble in making sense of the things I have to learn.\n",
    "Skills related to an international working environment\n",
    "I often have feelings of inadequacy in my studies.\n",
    "Communication skills in your native language (Finnish or Swedish)\n",
    "Most of what I have learned on courses has been really interesting.\n",
    "If you like, give feedback to your university.\n",
    "During my bachelor’s studies, I worked for a total of (months):\n",
    "I am satisfied with the education I got in my bachelor’s studies.\n",
    "I have learned to see things from different points of view.\n",
    "It has been easy to see how the assigned tasks and work have been related to what I am expected to learn.\n",
    "Bachelor’s studies gave me sufficient readiness to choose master’s levels studies.\n",
    "Skills in time management and prioritizing tasks\n",
    "During my bachelor’s studies, I worked abroad for a total of (months):\n",
    "What could your university have done to help your studies progress more smoothly?\n",
    "Age\n",
    "I have put a lot of effort into my studies.\n",
    "I am confident I can understand the basic concepts of my discipline.\n",
    "How useful has the study-related practice / work experience you gained during your bachelor’s studies been in the development of your abilities?  The used scale is: 5= Very useful; 4= Useful; 3= Only a little useful; 2= Not useful at all.\n",
    "I have enjoyed participating in courses.\n",
    "The things I need to learn have seemed so complicated that I have had difficulties in understanding them.\n",
    "Talking with other students has helped me understand things better.\n",
    "Communication skills in languages other than Finnish / Swedish\n",
    "Entrepreneurial skills, attitudinal\n",
    "Critical thinking skills\n",
    "Of the work I did during my bachelor’s studies, ____ months were related to my line of studies:\"\"\""
   ]
  },
  {
   "cell_type": "code",
   "execution_count": 16,
   "metadata": {},
   "outputs": [
    {
     "data": {
      "text/plain": [
       "['Ability to learn new things',\n",
       " 'It has been clear to me what I am expected to learn on the courses.',\n",
       " 'Basic education',\n",
       " 'I feel that I am losing interest in my studies.',\n",
       " 'I have been satisfied with the teaching methods used.',\n",
       " 'Ability to act ethically',\n",
       " 'I often sleep badly because of matters related to my studies.',\n",
       " 'I am certain I can understand even the most difficult material in my studies.',\n",
       " 'Ability to work internationally',\n",
       " 'Ability in your minor subject studies',\n",
       " 'I have learned to analyse and categorise information.',\n",
       " 'Ability in your major subject / programme',\n",
       " 'My survey responses will be kept confidential and they can be used for research purposes.',\n",
       " 'Skills in human resources / management',\n",
       " 'What we are taught seems to match what we are supposed to learn.',\n",
       " 'The set work (final exams, exercises etc.) has helped me to make connections between the things I am studying and my existing knowledge.',\n",
       " 'The feedback given on my assigned work has helped me to clarify things I had not fully understood.',\n",
       " 'Mathematical and natural science skills',\n",
       " 'If you answered Yes to the question above, what are the reasons for your studies being delayed? You may choose a maximum of three (3) options from the list below.',\n",
       " 'Which degree programme have you graduated from or are going to graduate from?',\n",
       " 'Overall, I have been systematic and organised in my studying.',\n",
       " 'The pressure of my studies causes problems in my close relationships with others.',\n",
       " 'I am satisfied with my studies.',\n",
       " 'Self-knowledge',\n",
       " 'Communication skills in the second national language (Finnish or Swedish)',\n",
       " 'I have received enough feedback about my learning.',\n",
       " 'My studies have developed my collaboration skills.',\n",
       " 'I have been satisfied with the communication I have had with the teaching staff.',\n",
       " 'I have often had to repeat things in order to learn them.',\n",
       " 'My education has met the set goals.',\n",
       " 'I feel a lack of study motivation and often think of giving up.',\n",
       " 'I have planned my studies so that I can fit everything in.',\n",
       " 'Entrepreneurial skills',\n",
       " 'What other reasons were there that you feel delayed your studies?',\n",
       " 'I believe I will do well in my studies.',\n",
       " 'I have organised my study time carefully to make the best use of it.',\n",
       " 'Information retrieval skills',\n",
       " 'If you answered Yes to the question above, please estimate how many months your working has slowed down or accelerated your studies:',\n",
       " 'The competences I have developed in my education meet my expectations.',\n",
       " 'I expect to do well in my studies.',\n",
       " 'NULL',\n",
       " 'Entrepreneurial skills, theoretical knowledge',\n",
       " 'I believe that I have been able to work comfortably with other students during courses.',\n",
       " 'It has been easy for me to find information and support regarding different aspects of my studies.',\n",
       " 'My survey responses can be enriched with student register data if needed for research use.',\n",
       " 'I have learned to apply theoretical knowledge to practice.',\n",
       " 'Know-how related to my field of study',\n",
       " 'I have tried to relate what I learn in one course to what I have learned in other courses.',\n",
       " 'I feel overwhelmed by the work related to my studies.',\n",
       " 'I feel comfortable at my university.',\n",
       " 'During my studies I have tried to relate new material to my previous knowledge.',\n",
       " 'I am continually wondering whether my studies have any meaning.',\n",
       " 'I have learned how to present my views in different interaction situations.',\n",
       " 'General knowledge of economics',\n",
       " 'The feedback given on my work has helped me to improve my ways of learning and studying.',\n",
       " 'Competence in sustainability',\n",
       " 'I used to expect I would achieve much more in my studies than I expect now.',\n",
       " 'Studying at the university has developed my skills in acting as a member of a group.',\n",
       " 'Much of what I have learned seems nothing more than unrelated bits and pieces.',\n",
       " 'IT skills',\n",
       " 'Do you feel that your studies were delayed for some reason?',\n",
       " 'Has working during your studies affected the progress of your studies?',\n",
       " 'Ideas and perspectives I came across during my studies have made me contemplate them afterwards.',\n",
       " 'I can see the relevance of what we have been taught.',\n",
       " 'The teaching has been, to a large extent, of good quality.',\n",
       " 'During my free time I worry over matters related to my studies.',\n",
       " 'Competence in sustainable development',\n",
       " 'Ability to present in public',\n",
       " 'I have learned to present arguments for my thoughts.',\n",
       " 'There has been sufficient guidance available for the organisation of my studies.',\n",
       " 'I have got support and help from other students when I have needed it.',\n",
       " 'What is your major / specialisation track?',\n",
       " 'The feedback I received from the teaching staff has helped me with my studies.',\n",
       " 'General leadership skills',\n",
       " 'It has been clear to me what has been expected of me in final exams, exercises, essays, course presentations etc.',\n",
       " 'I am certain I can learn the skills required in my study field.',\n",
       " 'I have learned to solve problems in practical situations.',\n",
       " 'When needed, I have found a person whom to ask for help.',\n",
       " 'There has been sufficient guidance available for the preparation of my bachelor’s thesis or final exam.',\n",
       " 'Gender',\n",
       " 'I have been satisfied with the opportunities I had to influence and participate in my study programme (e.g. participating in curriculum planning, and opportunities to give feedback).',\n",
       " 'I have carefully looked for evidence to reach my own conclusions about what I am studying.',\n",
       " 'I have often had trouble in making sense of the things I have to learn.',\n",
       " 'Skills related to an international working environment',\n",
       " 'I often have feelings of inadequacy in my studies.',\n",
       " 'Communication skills in your native language (Finnish or Swedish)',\n",
       " 'Most of what I have learned on courses has been really interesting.',\n",
       " 'If you like, give feedback to your university.',\n",
       " 'During my bachelor’s studies, I worked for a total of (months):',\n",
       " 'I am satisfied with the education I got in my bachelor’s studies.',\n",
       " 'I have learned to see things from different points of view.',\n",
       " 'It has been easy to see how the assigned tasks and work have been related to what I am expected to learn.',\n",
       " 'Bachelor’s studies gave me sufficient readiness to choose master’s levels studies.',\n",
       " 'Skills in time management and prioritizing tasks',\n",
       " 'During my bachelor’s studies, I worked abroad for a total of (months):',\n",
       " 'What could your university have done to help your studies progress more smoothly?',\n",
       " 'Age',\n",
       " 'I have put a lot of effort into my studies.',\n",
       " 'I am confident I can understand the basic concepts of my discipline.',\n",
       " 'How useful has the study-related practice / work experience you gained during your bachelor’s studies been in the development of your abilities?  The used scale is: 5= Very useful; 4= Useful; 3= Only a little useful; 2= Not useful at all.',\n",
       " 'I have enjoyed participating in courses.',\n",
       " 'The things I need to learn have seemed so complicated that I have had difficulties in understanding them.',\n",
       " 'Talking with other students has helped me understand things better.',\n",
       " 'Communication skills in languages other than Finnish / Swedish',\n",
       " 'Entrepreneurial skills, attitudinal',\n",
       " 'Critical thinking skills',\n",
       " 'Of the work I did during my bachelor’s studies, ____ months were related to my line of studies:']"
      ]
     },
     "execution_count": 16,
     "metadata": {},
     "output_type": "execute_result"
    }
   ],
   "source": [
    "a.split(\"\\n\")"
   ]
  },
  {
   "cell_type": "code",
   "execution_count": null,
   "metadata": {},
   "outputs": [],
   "source": []
  }
 ],
 "metadata": {
  "kernelspec": {
   "display_name": "Python 3",
   "language": "python",
   "name": "python3"
  },
  "language_info": {
   "codemirror_mode": {
    "name": "ipython",
    "version": 3
   },
   "file_extension": ".py",
   "mimetype": "text/x-python",
   "name": "python",
   "nbconvert_exporter": "python",
   "pygments_lexer": "ipython3",
   "version": "3.6.8"
  }
 },
 "nbformat": 4,
 "nbformat_minor": 2
}
