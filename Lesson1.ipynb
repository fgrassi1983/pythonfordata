{
 "cells": [
  {
   "cell_type": "markdown",
   "metadata": {},
   "source": [
    "<center>\n",
    "    <h1>\n",
    "            Introduction to Python\n",
    "    </h1></center><p><p>\n",
    "\n",
    "<h3>Lesson one: Control Flow</h3>\n",
    "\n",
    "04/03/2019\n",
    "\n",
    "fabio.grassi@aalto.fi\n"
   ]
  },
  {
   "cell_type": "markdown",
   "metadata": {},
   "source": [
    "## 1.0: Last week's episode\n",
    "\n",
    "In lesson zero we looked at some basic features of Jupyter Notebooks, we learned how to add or delete cells, and how to run their content. \n",
    "\n",
    "| Command  | Result  |\n",
    "|:-:|:-:|\n",
    "| a  | Create new cell (above) |\n",
    "| b  | Create new cell (below) |\n",
    "| c  | Copy selected cell |\n",
    "| x  | Cut selected cell |\n",
    "| v  | Paste selected cell |\n",
    "| m  | Switch to Markdown |\n",
    "| y  | Switch to code |\n",
    "| Ctrl+Enter  | Run selected cell |\n",
    "| Shift+enter  | Run selected cell and move to the one below |\n",
    "\n",
    "Remember that at any time you can view the list of available methods associated with a variable. This can be done by typing the name of a variable followed by a dot (e.g. *mystring.*), and then pressing **tab**. You can also read more about a function's properties and usage by typing the name of the cursor with open brackets and then, with the cursor between the brackets (e.g. *len(|)*), pressing **shift+tab**.\n",
    "\n",
    "We also introduced some basic variable types. Here is a quick recap:\n",
    "\n",
    "|type| description and example |\n",
    "|:-:|:-:|\n",
    "|int | integers (1,9, -10, 0...) |\n",
    "|float | floating point numbers (0.12, 9.87...) |\n",
    "|str | strings (\"Money money money must be funny...\") |\n",
    "|bool | boolean (True, False) |\n",
    "|list | lists ([0, \"bla\", 1.2, False, ...]) |\n",
    "|dict | dictionaries ({\"Eric\": 0509971253, \"Barbara Ann\": 0403167382, ...})\n",
    "|tuple | tuples ((3.14, 6.626, ...))"
   ]
  },
  {
   "cell_type": "markdown",
   "metadata": {},
   "source": [
    "## 1.1: Loops\n",
    "\n",
    "Very often when writing code, we may find ourselves in situations where we need to perform the same action several times, or where we may want to perform different actions depending on the values of certain variables. Suppose for example that we had the following list:"
   ]
  },
  {
   "cell_type": "code",
   "execution_count": 1,
   "metadata": {},
   "outputs": [],
   "source": [
    "ourlist = [10,20,30,40]"
   ]
  },
  {
   "cell_type": "markdown",
   "metadata": {},
   "source": [
    "and that we wished to update its contents by adding 1 to each item. One way we could do this is to manually add 1 to every item in the list, as shown below:"
   ]
  },
  {
   "cell_type": "code",
   "execution_count": 2,
   "metadata": {},
   "outputs": [
    {
     "name": "stdout",
     "output_type": "stream",
     "text": [
      "[11, 21, 31, 41]\n"
     ]
    }
   ],
   "source": [
    "ourlist[0] = ourlist[0] + 1\n",
    "ourlist[1] = ourlist[1] + 1\n",
    "ourlist[2] = ourlist[2] + 1\n",
    "ourlist[3] = ourlist[3] + 1\n",
    "print(ourlist)"
   ]
  },
  {
   "cell_type": "markdown",
   "metadata": {},
   "source": [
    "This approach would work, but it would be tedious and time consuming, especially if our list were considerably larger. This solution also requires that we already know how many items will be present in our list, which we may not know when we are writing the code.\n",
    "\n",
    "A smarter way to approach this task is to use **loops**. Loops are structures that repeat the same action a fixed number of times, or until a given condition is satisfied, or even to infinity if necessary.\n",
    "\n",
    "### 1.1.0: for Loops\n",
    "\n",
    "One of the most useful loops, common to most modern programming languages, is the **for** loop. The for loop is used when a given set of actions needs to be performed for a fixed number of times, and it works by cycling through every item in a collection that you provide, e.g.:"
   ]
  },
  {
   "cell_type": "code",
   "execution_count": 3,
   "metadata": {},
   "outputs": [
    {
     "name": "stdout",
     "output_type": "stream",
     "text": [
      "Loop Start\n",
      "0\n",
      "Loop End\n",
      "\n",
      "Loop Start\n",
      "1\n",
      "Loop End\n",
      "\n",
      "Loop Start\n",
      "2\n",
      "Loop End\n",
      "\n",
      "Loop Start\n",
      "3\n",
      "Loop End\n",
      "\n"
     ]
    }
   ],
   "source": [
    "for iterator in [0,1,2,3]:\n",
    "    print(\"Loop Start\")\n",
    "    print(iterator)\n",
    "    print(\"Loop End\\n\")"
   ]
  },
  {
   "cell_type": "markdown",
   "metadata": {},
   "source": [
    "As we can see, the code inside the for loop was repeated four times, and every time, the value of **iterator** changed: first 0, then 1, 2, and 3.\n",
    "\n",
    "Let us examine the syntax, starting from the first line:\n",
    "\n",
    "* **for**: this tells Python that you are going to iterate through a group of objects\n",
    "* **iterator**: this is just a variable name, it could have been <b>x</b>, or  **Bob**, or any other name of your choosing\n",
    "* **in**: this tells Python that you want the **iterator** variable to take the values found **in** the container that follows immediately after\n",
    "* **[0,1,2,3]**: this is a list that includes all the values that we want our **iterator** variable to have\n",
    "\n",
    "Moving on to the contents of the loop: the first print statement simply prints a string with a fixed value, which stays the same at every loop. The second print statement prints the variable **iterator**. As we saw, this changed every time. This is because every time the loop reaches the end, it starts from the beginning again, except this time, the iterator variable has been assigned the value of the next item in the list.\n",
    "\n",
    "In short, what happens is that the same block of code (in this case, the three print statements) is run as many times as there are items in the container that we provided ([0,1,2,3]), and the only thing that changes is the value of the **iterator** variable, which at every cycle is assigned the value of the next item contained in our list.\n",
    "\n",
    "Let us look at another example:"
   ]
  },
  {
   "cell_type": "code",
   "execution_count": 4,
   "metadata": {},
   "outputs": [
    {
     "name": "stdout",
     "output_type": "stream",
     "text": [
      "Frank\n",
      "Mark\n",
      "Rhonda\n",
      "Barbara Ann\n"
     ]
    }
   ],
   "source": [
    "for i in [\"Frank\", \"Mark\", \"Rhonda\", \"Barbara Ann\"]:\n",
    "    print(i)"
   ]
  },
  {
   "cell_type": "markdown",
   "metadata": {},
   "source": [
    "Once again we see that the code is run once for every item in our list, and every time exactly the same operation is repeated, using the next item found in the list. Let us try another one:"
   ]
  },
  {
   "cell_type": "code",
   "execution_count": 5,
   "metadata": {},
   "outputs": [
    {
     "name": "stdout",
     "output_type": "stream",
     "text": [
      "0\n",
      "10\n",
      "20\n",
      "30\n",
      "40\n",
      "50\n",
      "60\n",
      "70\n",
      "80\n",
      "90\n",
      "100\n"
     ]
    }
   ],
   "source": [
    "for i in [0,1,2,3,4,5,6,7,8,9,10]:\n",
    "    print(i * 10)"
   ]
  },
  {
   "cell_type": "markdown",
   "metadata": {},
   "source": [
    "As we can see, we can also use the iterating variable to perform operations.\n",
    "\n",
    "\n",
    "## Exercise:\n",
    "\n",
    "Declare a list, then print its contents using a for loop.\n",
    "\n",
    "<br><br>"
   ]
  },
  {
   "cell_type": "markdown",
   "metadata": {},
   "source": [
    "In the previous example, we iterated through a list with eleven items. Python provides an easy way to avoid typing it manually: the **range()** function:"
   ]
  },
  {
   "cell_type": "code",
   "execution_count": 6,
   "metadata": {},
   "outputs": [
    {
     "name": "stdout",
     "output_type": "stream",
     "text": [
      "0\n",
      "10\n",
      "20\n",
      "30\n",
      "40\n",
      "50\n",
      "60\n",
      "70\n",
      "80\n",
      "90\n",
      "100\n"
     ]
    }
   ],
   "source": [
    "for i in range(0,11):\n",
    "    print(i * 10)"
   ]
  },
  {
   "cell_type": "markdown",
   "metadata": {},
   "source": [
    "Same result, and we saved several keystrokes. Also note that by using the **range()** function, we do not necessarily have to beforehand know how many iterations we are going to do. Suppose for example that we had just received some input from the user and we had split the sentence into words, but we did not know yet how many words the users was going to write. We could access each word separately as follows:"
   ]
  },
  {
   "cell_type": "code",
   "execution_count": 7,
   "metadata": {},
   "outputs": [
    {
     "name": "stdout",
     "output_type": "stream",
     "text": [
      "Everybody's\n",
      "gone\n",
      "surfin'\n",
      "surfin'\n",
      "USA\n"
     ]
    }
   ],
   "source": [
    "user_input = [\"Everybody's\",\"gone\",\"surfin'\",\"surfin'\",\"USA\"]\n",
    "\n",
    "input_length = len(user_input)\n",
    "\n",
    "for i in range(0,input_length):\n",
    "    print(user_input[i])"
   ]
  },
  {
   "cell_type": "markdown",
   "metadata": {},
   "source": [
    "### A word about indentation:\n",
    "\n",
    "The examples above also implicitly introduce a very important concept in Python: indentation, or, the empty space at the beginning of a line. You may have noticed that in the first example, the print statements were all indented:\n",
    "\n",
    "    for iterator in [0,1,2,3]:\n",
    "        print(\"Loop Start\")\n",
    "        print(iterator)\n",
    "        print(\"Loop End\\n\")\n",
    "\n",
    "When Python finds empty spaces at the beginning of a line, it interprets this as a sign that this line is a separate block of code from the one above. In this case, indentation is used to tell Python which block of code will be run by the for loop. A return to the previous indentation level is interpreted by Python as a signal that the block of code to be executed during the for loop is now ended."
   ]
  },
  {
   "cell_type": "code",
   "execution_count": 8,
   "metadata": {},
   "outputs": [
    {
     "name": "stdout",
     "output_type": "stream",
     "text": [
      "Inside the loop.\n",
      "Still in...\n",
      "Inside the loop.\n",
      "Still in...\n",
      "Inside the loop.\n",
      "Still in...\n",
      "Inside the loop.\n",
      "Still in...\n",
      "Done.\n"
     ]
    }
   ],
   "source": [
    "for i in [0,1,2,3]:\n",
    "    print(\"Inside the loop.\")\n",
    "    print(\"Still in...\")\n",
    "print(\"Done.\")"
   ]
  },
  {
   "cell_type": "markdown",
   "metadata": {},
   "source": [
    "As you can see, only the indented lines are treated as part of the loop. The last line is on the same indentation level as the for statement and, therefore, it is executed only once. It is up to you what indentation to use: the unofficial Python standard is to use four spaces, but you can also use one, or ten, or just press tab. The important thing is that you always use the same, or Python will get confused:\n",
    "\n",
    "    for i in [0,1,2,3]:\n",
    "        print(i)\n",
    "       print(\"Loop End\")\n",
    "       \n",
    "The above example would not work as the third line has a different indentation.\n",
    "\n",
    "    for i in [0,1,2,3]:\n",
    "        print(i)\n",
    "        print(\"Loop End\")\n",
    "\n",
    "This one would work, because both print statements are on the same indentation level.\n",
    "\n",
    "Lucky for us, in this environment, there is no need need to worry about indentation: Jupyter Notebooks automatically take care of it."
   ]
  },
  {
   "cell_type": "markdown",
   "metadata": {},
   "source": [
    "### Nested for loops:\n",
    "\n",
    "So far we have seen that we can use for loops to iterate through a list. Suppose we had a matrix, or a table, or a list of lists, and we wanted to cycle through every element inside it. In each of these cases, we would have to first iterate through rows, and then through columns, or vice versa. To do this, we need to use two for loops, one inside the other.\n",
    "\n",
    "Let us look at an example, starting with our matrix."
   ]
  },
  {
   "cell_type": "code",
   "execution_count": 9,
   "metadata": {},
   "outputs": [],
   "source": [
    "thematrix = [[\"Row 0, Column 0\",\"Row 0, Column 1\"],\n",
    "             [\"Row 1, Column 0\",\"Row 1, Column 1\"]]"
   ]
  },
  {
   "cell_type": "markdown",
   "metadata": {},
   "source": [
    "Variable thematrix is a list, which contains two lists, each one with two items. With one for loop, we are only able to access the inner lists, but not the elements inside them:"
   ]
  },
  {
   "cell_type": "code",
   "execution_count": 10,
   "metadata": {},
   "outputs": [
    {
     "name": "stdout",
     "output_type": "stream",
     "text": [
      "['Row 0, Column 0', 'Row 0, Column 1']\n",
      "['Row 1, Column 0', 'Row 1, Column 1']\n"
     ]
    }
   ],
   "source": [
    "for outer_iterator in thematrix:\n",
    "    print(outer_iterator)"
   ]
  },
  {
   "cell_type": "markdown",
   "metadata": {},
   "source": [
    "To get to the items inside the lists, we need a new loop inside the outer one:"
   ]
  },
  {
   "cell_type": "code",
   "execution_count": 11,
   "metadata": {},
   "outputs": [
    {
     "name": "stdout",
     "output_type": "stream",
     "text": [
      "Row 0, Column 0\n",
      "Row 0, Column 1\n",
      "Row 1, Column 0\n",
      "Row 1, Column 1\n"
     ]
    }
   ],
   "source": [
    "for outer_iterator in thematrix:\n",
    "    for inner_iterator in outer_iterator:\n",
    "        print(inner_iterator)"
   ]
  },
  {
   "cell_type": "markdown",
   "metadata": {},
   "source": [
    "Same logic as before, we just used another for loop, except this time we are iterating through the first loop's iterator (which we called *outer_iterator* in our example)."
   ]
  },
  {
   "cell_type": "markdown",
   "metadata": {},
   "source": [
    "## Exercise\n",
    "\n",
    "Given the list listoflists = [[1,2,3],[\"Hip\",\"to\",\"be\",\"square\"]], print every item in the list using a nested for loop."
   ]
  },
  {
   "cell_type": "markdown",
   "metadata": {},
   "source": [
    "### 1.1.1: While Loops\n",
    "\n",
    "We have just seen how convenient it may be to use for loops when we need to iterate through a container of any kind, or when we wish to perform an operation a fixed number of times. There may be times however when we just want to run the same block of code not for a fixed number of times, but continuously until a given condition is met. Example: assume we wanted to print all squares (i.e. 1x1, 2x2, 3x3, 4x4...) smaller than 1000. We could do this easily by using a **while** loop:"
   ]
  },
  {
   "cell_type": "code",
   "execution_count": 12,
   "metadata": {},
   "outputs": [
    {
     "name": "stdout",
     "output_type": "stream",
     "text": [
      "1 1\n",
      "2 4\n",
      "3 9\n",
      "4 16\n",
      "5 25\n",
      "6 36\n",
      "7 49\n",
      "8 64\n",
      "9 81\n",
      "10 100\n",
      "11 121\n",
      "12 144\n",
      "13 169\n",
      "14 196\n",
      "15 225\n",
      "16 256\n",
      "17 289\n",
      "18 324\n",
      "19 361\n",
      "20 400\n",
      "21 441\n",
      "22 484\n",
      "23 529\n",
      "24 576\n",
      "25 625\n",
      "26 676\n",
      "27 729\n",
      "28 784\n",
      "29 841\n",
      "30 900\n",
      "31 961\n",
      "While loop is finished\n"
     ]
    }
   ],
   "source": [
    "i = 1\n",
    "\n",
    "while i*i < 1000:\n",
    "    print(i, i*i)\n",
    "    i = i + 1\n",
    "\n",
    "print(\"While loop is finished\")"
   ]
  },
  {
   "cell_type": "markdown",
   "metadata": {},
   "source": [
    "Let's have a look at the syntax: first of all, we have the **while** keyword, which tells Python that we are going to write a while loop. Then we have a condition: in this case, i * i < 1000. This is the condition that Python will verify every time the loop is about to start. Since we initially declared that i = 1, Python will calculate that 1 * 1 = 1, and since 1 is less than 1000, it will execute the block of code in the while loop. Notice that inside the loop we included an instruction to increase the value of i by 1 every time the code block is executed, so on the second run, i will be 2. At this point Python will check again if i * i < 1000, which it still is, so it will run the code again, and so on until i will have become equal to 32. Python will once again check whether i * i < 1000, but since 32x32 = 1024, it will conclude that the loop is finished and it will move on to the next part of the program.\n",
    "\n",
    "Note that **while** behaves in a slightly different way than **for**, in that it does not iterate through an object of fixed length, but it simply repeats the same block of code, **for as long as the condition that you specify is true**. This means that, if we had not increased the value of i ourselves, i would have remained equal to 1, and since 1 * 1 will always be smaller than 1000, the code inside the while loop would have kept running **forever**, or at least until you turned your laptop off.\n",
    "\n",
    "### Exercise\n",
    "\n",
    "Define a variable called \"password\" and assign it a value of your choice, and a variable called \"answer\", and assign it an empty string. Now write a while loop that keeps asking the user for the right password until they get it right. Use the **input()** function to get input from the user."
   ]
  },
  {
   "cell_type": "code",
   "execution_count": 13,
   "metadata": {},
   "outputs": [],
   "source": [
    "password = \"iron and copper\"\n",
    "answer = \"\""
   ]
  },
  {
   "cell_type": "markdown",
   "metadata": {},
   "source": [
    "## 2.0: if statements\n",
    "\n",
    "Very often you may want to execute code only if a certain condition is met. \n",
    "\n",
    "Let us define two dictionaries, one with the names and grades of our students, the other with the name and sex."
   ]
  },
  {
   "cell_type": "code",
   "execution_count": 14,
   "metadata": {},
   "outputs": [],
   "source": [
    "names_grades = {\"Frank\":88, \"Mark\":49, \"Rhonda\":90, \"Barbara Ann\":60, \"Peggy Sue\":41, \"Eric\":70}\n",
    "names_sex = {\"Frank\":\"m\", \"Mark\":\"m\", \"Rhonda\":\"f\", \"Barbara Ann\":\"f\", \"Peggy Sue\":\"f\", \"Eric\":\"m\"}"
   ]
  },
  {
   "cell_type": "markdown",
   "metadata": {},
   "source": [
    "Now let us assume we wanted the names of only the students who scored *at least* 60. We could accomplish this using an **if** statement:"
   ]
  },
  {
   "cell_type": "code",
   "execution_count": 15,
   "metadata": {},
   "outputs": [
    {
     "name": "stdout",
     "output_type": "stream",
     "text": [
      "Frank\n",
      "Rhonda\n",
      "Barbara Ann\n",
      "Eric\n"
     ]
    }
   ],
   "source": [
    "for name in names_grades:\n",
    "    if names_grades[name] >= 60:\n",
    "        print(name)"
   ]
  },
  {
   "cell_type": "markdown",
   "metadata": {},
   "source": [
    "Let us discuss what happened. First, since we wanted to check the performance of every student in our dictionary, we started with a **for** loop. Then, in the second line, we placed our **if** statement, which consists simply of the keyword **if**, followed by a condition: in this case, we wanted all students whose score was greater than or equal to 60. Finally, we have our print statement, which is executed **only if the student scored 60 or higher**.\n",
    "\n",
    "That's it.\n",
    "\n",
    "These are the operators you need when specifying your conditions:\n",
    "\n",
    "| Operator | Description |\n",
    "|:-:|:-:|\n",
    "| > | Greater than |\n",
    "| < | Less than |\n",
    "| >= | Greater than or equal to |\n",
    "| <= | Less than or equal to |\n",
    "| == | Equal to (notice it's two equals signs) |\n",
    "| != | *Not* equal to | "
   ]
  },
  {
   "cell_type": "markdown",
   "metadata": {},
   "source": [
    "Sometimes you may also want to use multiple conditions. This can be done very easily using the very intuitive keywords **and** and **or**."
   ]
  },
  {
   "cell_type": "code",
   "execution_count": 16,
   "metadata": {},
   "outputs": [
    {
     "name": "stdout",
     "output_type": "stream",
     "text": [
      "Frank 88\n",
      "Barbara Ann 60\n"
     ]
    }
   ],
   "source": [
    "# Printing only Frank and Barbara Ann's grades.\n",
    "\n",
    "for i in names_grades:\n",
    "    if i == \"Frank\" or i == \"Barbara Ann\":\n",
    "        print(i, names_grades[i])\n"
   ]
  },
  {
   "cell_type": "code",
   "execution_count": 17,
   "metadata": {},
   "outputs": [
    {
     "name": "stdout",
     "output_type": "stream",
     "text": [
      "Rhonda 90\n",
      "Barbara Ann 60\n"
     ]
    }
   ],
   "source": [
    "# Printing only the names of the girls who scored >= 60.\n",
    "\n",
    "for i in names_grades:\n",
    "    if names_grades[i] >= 60 and names_sex[i] == \"f\":\n",
    "        print(i, names_grades[i])"
   ]
  },
  {
   "cell_type": "markdown",
   "metadata": {},
   "source": [
    "When the condition of an if statement is not met, nothing will happen, and the program will simply skip the if statement and continue. Sometimes, we may want to have multiple options to execute, in case the first condition is not verified. For example, we may want to classify our students' grades as \"Fail\", \"Pass\", or \"Excellent\", based on the following criteria:\n",
    "\n",
    "| Score  | Category  |\n",
    "|:-:|:-:|\n",
    "| Fail  | x < 60  |\n",
    "| Pass  | 60 <= x < 80   |\n",
    "| Excellent | x > 80 |\n",
    "\n",
    "We could do so using the **elif** and **else** keywords:"
   ]
  },
  {
   "cell_type": "code",
   "execution_count": 18,
   "metadata": {},
   "outputs": [
    {
     "name": "stdout",
     "output_type": "stream",
     "text": [
      "Frank Excellent\n",
      "Mark Fail\n",
      "Rhonda Excellent\n",
      "Barbara Ann Pass\n",
      "Peggy Sue Fail\n",
      "Eric Pass\n"
     ]
    }
   ],
   "source": [
    "for i in names_grades:\n",
    "    if names_grades[i] < 60:\n",
    "        print(i, \"Fail\")\n",
    "    elif names_grades[i] >= 60 and names_grades[i] < 80:\n",
    "        print(i, \"Pass\")\n",
    "    else:\n",
    "        print(i, \"Excellent\")"
   ]
  },
  {
   "cell_type": "markdown",
   "metadata": {},
   "source": [
    "The **elif** keyword is optional and can be used if we wish to specify a second condition to be checked in case the preceding one is not verified. The **else** keyword, also optional, is a catch all used when **none of the previously defined conditions are met**."
   ]
  },
  {
   "cell_type": "markdown",
   "metadata": {},
   "source": [
    "## 3.0 try ... except statements:\n",
    "\n",
    "There may be times when you expect things could go wrong, e.g. you may know from experience that users could submit the wrong type of input, or that there could be problems fetching data from a certain source. One way you can structure your code to take care of these exceptions is to use **try ... except** statements.\n",
    "\n",
    "Suppose we had just read a list, e.g. [1,2,3], and we wanted to add 10 to every item in the list (thus updating it to [11,12,13]). We could do this easily with a for loop:"
   ]
  },
  {
   "cell_type": "code",
   "execution_count": 19,
   "metadata": {},
   "outputs": [
    {
     "name": "stdout",
     "output_type": "stream",
     "text": [
      "[11, 12, 13]\n"
     ]
    }
   ],
   "source": [
    "somelist = [1,2,3]\n",
    "\n",
    "for i in range(len(somelist)):\n",
    "    somelist[i] = somelist[i] + 10\n",
    "    \n",
    "print(somelist)"
   ]
  },
  {
   "cell_type": "markdown",
   "metadata": {},
   "source": [
    "It worked, as expected. But what would happen if one of the items in our list were, say, a string?"
   ]
  },
  {
   "cell_type": "code",
   "execution_count": 20,
   "metadata": {},
   "outputs": [
    {
     "ename": "TypeError",
     "evalue": "must be str, not int",
     "output_type": "error",
     "traceback": [
      "\u001b[1;31m---------------------------------------------------------------------------\u001b[0m",
      "\u001b[1;31mTypeError\u001b[0m                                 Traceback (most recent call last)",
      "\u001b[1;32m<ipython-input-20-e036957a094e>\u001b[0m in \u001b[0;36m<module>\u001b[1;34m\u001b[0m\n\u001b[0;32m      2\u001b[0m \u001b[1;33m\u001b[0m\u001b[0m\n\u001b[0;32m      3\u001b[0m \u001b[1;32mfor\u001b[0m \u001b[0mi\u001b[0m \u001b[1;32min\u001b[0m \u001b[0mrange\u001b[0m\u001b[1;33m(\u001b[0m\u001b[0mlen\u001b[0m\u001b[1;33m(\u001b[0m\u001b[0manotherlist\u001b[0m\u001b[1;33m)\u001b[0m\u001b[1;33m)\u001b[0m\u001b[1;33m:\u001b[0m\u001b[1;33m\u001b[0m\u001b[1;33m\u001b[0m\u001b[0m\n\u001b[1;32m----> 4\u001b[1;33m     \u001b[0manotherlist\u001b[0m\u001b[1;33m[\u001b[0m\u001b[0mi\u001b[0m\u001b[1;33m]\u001b[0m \u001b[1;33m=\u001b[0m \u001b[0manotherlist\u001b[0m\u001b[1;33m[\u001b[0m\u001b[0mi\u001b[0m\u001b[1;33m]\u001b[0m \u001b[1;33m+\u001b[0m \u001b[1;36m10\u001b[0m\u001b[1;33m\u001b[0m\u001b[1;33m\u001b[0m\u001b[0m\n\u001b[0m\u001b[0;32m      5\u001b[0m \u001b[1;33m\u001b[0m\u001b[0m\n\u001b[0;32m      6\u001b[0m \u001b[0mprint\u001b[0m\u001b[1;33m(\u001b[0m\u001b[0msomelist\u001b[0m\u001b[1;33m)\u001b[0m\u001b[1;33m\u001b[0m\u001b[1;33m\u001b[0m\u001b[0m\n",
      "\u001b[1;31mTypeError\u001b[0m: must be str, not int"
     ]
    }
   ],
   "source": [
    "anotherlist = [1,2,\"hello\"]\n",
    "\n",
    "for i in range(len(anotherlist)):\n",
    "    anotherlist[i] = anotherlist[i] + 10\n",
    "\n",
    "print(somelist)"
   ]
  },
  {
   "cell_type": "markdown",
   "metadata": {},
   "source": [
    "We have a bug in our code: the way we wrote it, our loop cannot handle strings. Notice that Python informed us that it encountered an error called **TypeError**. This is very useful information, which we can use to our advantage. Let us now rewrite the for loop, this time using a try ... except statement to make sure that if the item in the list is a string, it is updated by adding \" world\" to it."
   ]
  },
  {
   "cell_type": "code",
   "execution_count": 21,
   "metadata": {},
   "outputs": [
    {
     "name": "stdout",
     "output_type": "stream",
     "text": [
      "[11, 12, 'hello world']\n"
     ]
    }
   ],
   "source": [
    "anotherlist = [1,2,\"hello\"]\n",
    "\n",
    "for i in range(len(anotherlist)):\n",
    "    try:\n",
    "        anotherlist[i] = anotherlist[i] + 10\n",
    "    except TypeError:\n",
    "        anotherlist[i] = anotherlist[i] + \" world\"\n",
    "\n",
    "print(anotherlist)"
   ]
  },
  {
   "cell_type": "markdown",
   "metadata": {},
   "source": [
    "## Optional exercises:\n",
    "\n",
    "### 1: Declare a list, and then print every element inside it using a for loop."
   ]
  },
  {
   "cell_type": "code",
   "execution_count": 1,
   "metadata": {},
   "outputs": [
    {
     "name": "stdout",
     "output_type": "stream",
     "text": [
      "Back to the Future\n",
      "Fistful of Dollars\n",
      "Star Wars\n"
     ]
    }
   ],
   "source": [
    "thebestmoviesever = [\"Back to the Future\", \"Fistful of Dollars\", \"Star Wars\"]\n",
    "\n",
    "for i in thebestmoviesever:\n",
    "    print(i)"
   ]
  },
  {
   "cell_type": "markdown",
   "metadata": {},
   "source": [
    "### 2: Given the following list of lists, use a nested for loop to print every item in every list."
   ]
  },
  {
   "cell_type": "code",
   "execution_count": 2,
   "metadata": {},
   "outputs": [],
   "source": [
    "l = [[\"one\",\"two\",\"three\"],[\"yksi\",\"kaksi\",\"kolme\"],[\"uno\",\"due\",\"tre\"],[\"eins\",\"zwei\",\"drei\"]]"
   ]
  },
  {
   "cell_type": "code",
   "execution_count": 3,
   "metadata": {},
   "outputs": [
    {
     "name": "stdout",
     "output_type": "stream",
     "text": [
      "['one', 'two', 'three']\n",
      "['yksi', 'kaksi', 'kolme']\n",
      "['uno', 'due', 'tre']\n",
      "['eins', 'zwei', 'drei']\n"
     ]
    }
   ],
   "source": [
    "for i in l:\n",
    "    print(i)"
   ]
  },
  {
   "cell_type": "code",
   "execution_count": 4,
   "metadata": {},
   "outputs": [
    {
     "name": "stdout",
     "output_type": "stream",
     "text": [
      "one\n",
      "two\n",
      "three\n",
      "yksi\n",
      "kaksi\n",
      "kolme\n",
      "uno\n",
      "due\n",
      "tre\n",
      "eins\n",
      "zwei\n",
      "drei\n"
     ]
    }
   ],
   "source": [
    "for outer_iterator in l:\n",
    "    for inner_iterator in outer_iterator:\n",
    "        print(inner_iterator)"
   ]
  },
  {
   "cell_type": "markdown",
   "metadata": {},
   "source": [
    "### 3: Set up a while loop that prints \"Hello\" ten times. Hint: first define a variable outside the loop (e.g. x), then use it to define your condition (greater than... smaller than... etc.). Other hint: if you accidentally get stuck in an infinite loop, press the stop button which you can find above, next to \"Run\". "
   ]
  },
  {
   "cell_type": "code",
   "execution_count": 7,
   "metadata": {},
   "outputs": [
    {
     "name": "stdout",
     "output_type": "stream",
     "text": [
      "Hello\n",
      "Hello\n",
      "Hello\n",
      "Hello\n",
      "Hello\n",
      "Hello\n",
      "Hello\n",
      "Hello\n",
      "Hello\n"
     ]
    }
   ],
   "source": [
    "x = 1\n",
    "\n",
    "while True:\n",
    "    print(\"Hello\")\n",
    "    x = x + 1\n",
    "    if x == 10:\n",
    "        break"
   ]
  },
  {
   "cell_type": "markdown",
   "metadata": {},
   "source": [
    "### 4: Given the following list, use a for loop and an if statement to print only the items that are greater than or equal to zero."
   ]
  },
  {
   "cell_type": "code",
   "execution_count": 8,
   "metadata": {},
   "outputs": [],
   "source": [
    "l = [0, -1,2,-3,4,-5,6,-7,8,-9,10]"
   ]
  },
  {
   "cell_type": "code",
   "execution_count": 9,
   "metadata": {},
   "outputs": [
    {
     "name": "stdout",
     "output_type": "stream",
     "text": [
      "0\n",
      "2\n",
      "4\n",
      "6\n",
      "8\n",
      "10\n"
     ]
    }
   ],
   "source": [
    "for i in l:\n",
    "    if i >= 0:\n",
    "        print(i)"
   ]
  },
  {
   "cell_type": "markdown",
   "metadata": {},
   "source": [
    "### 5: Given the following list, use a for loop and a try ... except statement to print the square of every item (so x * x, or x**2), or to just print the item like it is if that is not possible."
   ]
  },
  {
   "cell_type": "code",
   "execution_count": 10,
   "metadata": {},
   "outputs": [],
   "source": [
    "l = [0, \"one\", 2, \"three\", 4, \"five\"]"
   ]
  },
  {
   "cell_type": "code",
   "execution_count": 13,
   "metadata": {},
   "outputs": [
    {
     "name": "stdout",
     "output_type": "stream",
     "text": [
      "0\n",
      "one\n",
      "4\n",
      "three\n",
      "16\n",
      "five\n"
     ]
    }
   ],
   "source": [
    "for i in l:\n",
    "    try:\n",
    "        print(i * i)\n",
    "    except TypeError:\n",
    "        print(i)"
   ]
  },
  {
   "cell_type": "code",
   "execution_count": 14,
   "metadata": {},
   "outputs": [],
   "source": [
    "import pandas as pd"
   ]
  },
  {
   "cell_type": "code",
   "execution_count": 15,
   "metadata": {},
   "outputs": [],
   "source": [
    "import os"
   ]
  },
  {
   "cell_type": "code",
   "execution_count": 16,
   "metadata": {},
   "outputs": [
    {
     "data": {
      "text/plain": [
       "['bla.csv',\n",
       " 'coursedata.csv',\n",
       " 'Course_data_20190226.csv',\n",
       " 'ekoquestions.csv',\n",
       " 'tekquestions.csv']"
      ]
     },
     "execution_count": 16,
     "metadata": {},
     "output_type": "execute_result"
    }
   ],
   "source": [
    "[i for i in os.listdir() if i.endswith(\"csv\")]"
   ]
  },
  {
   "cell_type": "code",
   "execution_count": 20,
   "metadata": {},
   "outputs": [],
   "source": [
    "x = []\n",
    "fin = open(\"coursedata.csv\")\n",
    "for line in fin:\n",
    "    x.append(line)\n",
    "fin.close()"
   ]
  },
  {
   "cell_type": "code",
   "execution_count": 23,
   "metadata": {},
   "outputs": [],
   "source": [
    "l = [len(i.split(\";\")) for i in x]"
   ]
  },
  {
   "cell_type": "code",
   "execution_count": 27,
   "metadata": {},
   "outputs": [],
   "source": [
    "bla = set(l)"
   ]
  },
  {
   "cell_type": "code",
   "execution_count": null,
   "metadata": {},
   "outputs": [],
   "source": [
    "bla."
   ]
  },
  {
   "cell_type": "code",
   "execution_count": null,
   "metadata": {},
   "outputs": [],
   "source": []
  }
 ],
 "metadata": {
  "kernelspec": {
   "display_name": "Python 3",
   "language": "python",
   "name": "python3"
  },
  "language_info": {
   "codemirror_mode": {
    "name": "ipython",
    "version": 3
   },
   "file_extension": ".py",
   "mimetype": "text/x-python",
   "name": "python",
   "nbconvert_exporter": "python",
   "pygments_lexer": "ipython3",
   "version": "3.6.8"
  }
 },
 "nbformat": 4,
 "nbformat_minor": 2
}
