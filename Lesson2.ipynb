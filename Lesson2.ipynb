{
 "cells": [
  {
   "cell_type": "markdown",
   "metadata": {},
   "source": [
    "<center>\n",
    "    <h1>\n",
    "            Introduction to Python\n",
    "    </h1></center><p><p>\n",
    "\n",
    "<h3>Lesson two: Functions</h3>\n",
    "\n",
    "04/03/2019\n",
    "\n",
    "fabio.grassi@aalto.fi"
   ]
  },
  {
   "cell_type": "markdown",
   "metadata": {},
   "source": [
    "## 1.0: Last week's episode\n",
    "\n",
    "In lesson one we learned about:\n",
    "\n",
    "* **for** loops, which are used to iterate through a container (e.g. a list, a dictionary, a range...) and then repeat the same block of code a fixed number of times.\n",
    "* **while** loops, which are used to repeat the same block of code an indefinite number of times, until the condition specified is no longer true (potentially never).\n",
    "* **if ... elif ... else** statements, which are used to selectively execute a block of code only when a certain condition is verified (e.g. *if x > 0: print(\"x is positive\")*).\n",
    "* **try ... except** statements, useful for catching expected errors."
   ]
  },
  {
   "cell_type": "markdown",
   "metadata": {},
   "source": [
    "## 1.1: Functions\n",
    "\n",
    "As we saw last week, we may often find ourselves in situations where we have to repeat the same block of code. Today we are going to introduce another very important concept: functions. A function is any block of code that does something, and that you can reuse as many times as you want. This is an extremely important concept which also constitutes the basis of a whole programming paradigm, which is called **functional programming**. You do not need to know about it, but suffice to say that the more you can organize your code into functions, the better. \n",
    "\n",
    "We have already seen functions: **print()** is a function. Let us now define a function ourseves:"
   ]
  },
  {
   "cell_type": "code",
   "execution_count": 1,
   "metadata": {},
   "outputs": [],
   "source": [
    "def sing():\n",
    "    print(\"You don't need money, don't take fame\")\n",
    "    print(\"Don't need no credit card to ride this train\")\n",
    "    print(\"It's strong and it's sudden and it's cruel sometimes\")\n",
    "    print(\"But it might just save your life\")\n",
    "    print(\"That's the power of love\")"
   ]
  },
  {
   "cell_type": "markdown",
   "metadata": {},
   "source": [
    "In the cell above, we defined a **function**, using the **def** keyword, followed by a name of our choosing (in this case, *sing*). Notice that the name is immediately followed by parentheses, and the usual colon. The ensuing block of code is not executed, but it is stored under the name *sing*. From now on, any time we wish to run that code, we can do so by calling the function that we defined by using its name, like so:"
   ]
  },
  {
   "cell_type": "code",
   "execution_count": 2,
   "metadata": {},
   "outputs": [
    {
     "name": "stdout",
     "output_type": "stream",
     "text": [
      "You don't need money, don't take fame\n",
      "Don't need no credit card to ride this train\n",
      "It's strong and it's sudden and it's cruel sometimes\n",
      "But it might just save your life\n",
      "That's the power of love\n"
     ]
    }
   ],
   "source": [
    "sing()"
   ]
  },
  {
   "cell_type": "markdown",
   "metadata": {},
   "source": [
    "This can be very useful, as it allows us to reuse code whenever we need it, but it's also a bit static: this function always returns the same output. Sometimes we may want a function that is a bit more flexible: to do this, we can pass it **arguments**. Let us look at another example:"
   ]
  },
  {
   "cell_type": "code",
   "execution_count": 3,
   "metadata": {},
   "outputs": [
    {
     "name": "stdout",
     "output_type": "stream",
     "text": [
      "1\n",
      "4\n",
      "9\n",
      "16\n",
      "25\n"
     ]
    }
   ],
   "source": [
    "def square(someinput):\n",
    "    someoutput = someinput * someinput\n",
    "    return someoutput\n",
    "\n",
    "# And now, the function in action.\n",
    "\n",
    "for i in range(1,6):\n",
    "    print(square(i))"
   ]
  },
  {
   "cell_type": "code",
   "execution_count": 4,
   "metadata": {},
   "outputs": [
    {
     "data": {
      "text/plain": [
       "100"
      ]
     },
     "execution_count": 4,
     "metadata": {},
     "output_type": "execute_result"
    }
   ],
   "source": [
    "square(10)"
   ]
  },
  {
   "cell_type": "markdown",
   "metadata": {},
   "source": [
    "As you can see, this time we added an argument between parentheses, which we called *someinput*. Then, we also used a new keyword, **return**, which is used to pass one or more values as output. The function calculates the square of the input value, and then returns the result.\n",
    "\n",
    "Note that as we have included an argument in our definition this time, if we tried to use the function without specifying an argument, we would get an error:"
   ]
  },
  {
   "cell_type": "code",
   "execution_count": 5,
   "metadata": {},
   "outputs": [
    {
     "ename": "TypeError",
     "evalue": "square() missing 1 required positional argument: 'someinput'",
     "output_type": "error",
     "traceback": [
      "\u001b[1;31m---------------------------------------------------------------------------\u001b[0m",
      "\u001b[1;31mTypeError\u001b[0m                                 Traceback (most recent call last)",
      "\u001b[1;32m<ipython-input-5-67e8141f4182>\u001b[0m in \u001b[0;36m<module>\u001b[1;34m\u001b[0m\n\u001b[1;32m----> 1\u001b[1;33m \u001b[0msquare\u001b[0m\u001b[1;33m(\u001b[0m\u001b[1;33m)\u001b[0m\u001b[1;33m\u001b[0m\u001b[1;33m\u001b[0m\u001b[0m\n\u001b[0m",
      "\u001b[1;31mTypeError\u001b[0m: square() missing 1 required positional argument: 'someinput'"
     ]
    }
   ],
   "source": [
    "square()"
   ]
  },
  {
   "cell_type": "markdown",
   "metadata": {},
   "source": [
    "A function can also have multiple inputs:"
   ]
  },
  {
   "cell_type": "code",
   "execution_count": 6,
   "metadata": {},
   "outputs": [],
   "source": [
    "def exp(x, y):\n",
    "    \"\"\"This function takes two numbers as input, x and y, and returns the value of x to the power of y.\"\"\"\n",
    "    output = x**y\n",
    "    return output"
   ]
  },
  {
   "cell_type": "code",
   "execution_count": 7,
   "metadata": {},
   "outputs": [
    {
     "name": "stdout",
     "output_type": "stream",
     "text": [
      "2 to the power of 0  =  1\n",
      "2 to the power of 1  =  2\n",
      "2 to the power of 2  =  4\n",
      "2 to the power of 3  =  8\n",
      "2 to the power of 4  =  16\n",
      "2 to the power of 5  =  32\n"
     ]
    }
   ],
   "source": [
    "for i in range(0,6):\n",
    "    print(\"2 to the power of\", i, \" = \", exp(2,i))"
   ]
  },
  {
   "cell_type": "markdown",
   "metadata": {},
   "source": [
    "Naturally, functions can also include any of the control flow statements that we already saw. Let us create a function that tells us whether a variable is a number:"
   ]
  },
  {
   "cell_type": "code",
   "execution_count": 8,
   "metadata": {},
   "outputs": [
    {
     "name": "stdout",
     "output_type": "stream",
     "text": [
      "0\n",
      "This is not a number\n",
      "2\n",
      "This is not a number\n",
      "4\n",
      "This is not a number\n"
     ]
    }
   ],
   "source": [
    "def isitanumber(x):\n",
    "    try:\n",
    "        x/1\n",
    "        return x\n",
    "    except TypeError:\n",
    "        return \"This is not a number\"\n",
    "    \n",
    "somelist = [0,\"one\",2,\"three\",4,\"five\"]\n",
    "\n",
    "for i in somelist:\n",
    "    print(isitanumber(i))"
   ]
  },
  {
   "cell_type": "markdown",
   "metadata": {},
   "source": [
    "In this function, we used a try ... except statement where we tried to divide the input variable by 1. If the operation raises a TypeError, the function prints \"This is not a number\", if not, it just returns the number itself."
   ]
  },
  {
   "cell_type": "markdown",
   "metadata": {},
   "source": [
    "Exercise:\n",
    "\n",
    "Define a function called *relu* that takes one argument, and returns the variable itself if the argument is greater than or equal to 0, or 0 if the argument is smaller than 0. To give you a better idea, this is how we expect the function to behave:\n",
    "\n",
    "| Argument  | Output  |\n",
    "|:-:|:-:|\n",
    "| 1000  | 1000 |\n",
    "| 100  | 100 |\n",
    "| 10  | 10 |\n",
    "| 1  | 1 |\n",
    "| 0  | 0 |\n",
    "| -1  | 0 |\n",
    "| -10  | 0 |\n",
    "| -100  | 0 |\n",
    "| -1000  | 0 |\n"
   ]
  },
  {
   "cell_type": "code",
   "execution_count": 9,
   "metadata": {},
   "outputs": [],
   "source": [
    "def relu(bla):\n",
    "    if bla >= 0:\n",
    "        return bla\n",
    "    else:\n",
    "        return 0"
   ]
  },
  {
   "cell_type": "code",
   "execution_count": 10,
   "metadata": {},
   "outputs": [
    {
     "data": {
      "text/plain": [
       "99999999999"
      ]
     },
     "execution_count": 10,
     "metadata": {},
     "output_type": "execute_result"
    }
   ],
   "source": [
    "relu(99999999999)"
   ]
  },
  {
   "cell_type": "code",
   "execution_count": 11,
   "metadata": {},
   "outputs": [
    {
     "data": {
      "text/plain": [
       "0"
      ]
     },
     "execution_count": 11,
     "metadata": {},
     "output_type": "execute_result"
    }
   ],
   "source": [
    "relu(-999999999)"
   ]
  },
  {
   "cell_type": "markdown",
   "metadata": {},
   "source": [
    "This function may not seem particularly useful, but it plays a very important role in neural networks, as we may get to see (much) later.\n",
    "\n",
    "Sometimes it may be desirable to define default values for variables. For example, let us look again at our exp function, but this time setting the default value of both x and y to 2:"
   ]
  },
  {
   "cell_type": "code",
   "execution_count": 12,
   "metadata": {},
   "outputs": [
    {
     "data": {
      "text/plain": [
       "4"
      ]
     },
     "execution_count": 12,
     "metadata": {},
     "output_type": "execute_result"
    }
   ],
   "source": [
    "def exp(x=2,y=2):\n",
    "    return x ** y\n",
    "\n",
    "exp()"
   ]
  },
  {
   "cell_type": "markdown",
   "metadata": {},
   "source": [
    "Notice that this time we did not get an error, even though we did not submit any arguments to the function. This is because this time we specified a default value. If we did use arguments, then these would override the defaults:"
   ]
  },
  {
   "cell_type": "code",
   "execution_count": 13,
   "metadata": {},
   "outputs": [
    {
     "data": {
      "text/plain": [
       "27"
      ]
     },
     "execution_count": 13,
     "metadata": {},
     "output_type": "execute_result"
    }
   ],
   "source": [
    "exp(3,3)"
   ]
  },
  {
   "cell_type": "markdown",
   "metadata": {},
   "source": [
    "Exercise: define a function that takes a name as input, and prints \"Hello\" + name, using \"World\" as default."
   ]
  },
  {
   "cell_type": "code",
   "execution_count": 14,
   "metadata": {},
   "outputs": [],
   "source": [
    "def sayhello(name = \"World\"):\n",
    "    print(\"Hello\", name)"
   ]
  },
  {
   "cell_type": "code",
   "execution_count": 17,
   "metadata": {},
   "outputs": [
    {
     "name": "stdout",
     "output_type": "stream",
     "text": [
      "Hello Lennu\n"
     ]
    }
   ],
   "source": [
    "sayhello(\"Lennu\")"
   ]
  },
  {
   "cell_type": "code",
   "execution_count": 18,
   "metadata": {},
   "outputs": [
    {
     "name": "stdout",
     "output_type": "stream",
     "text": [
      "Hello World\n"
     ]
    }
   ],
   "source": [
    "sayhello()"
   ]
  },
  {
   "cell_type": "markdown",
   "metadata": {},
   "source": [
    "## 1.2: Lambda expressions\n",
    "\n",
    "There is also another way to define functions in Python, which is often used when a quick function is needed to execute some repeated task on the fly: **lambda** expressions. Lambda expressions can be used in several ways. Let us look at some examples:"
   ]
  },
  {
   "cell_type": "code",
   "execution_count": 19,
   "metadata": {},
   "outputs": [
    {
     "data": {
      "text/plain": [
       "<function __main__.<lambda>(bla)>"
      ]
     },
     "execution_count": 19,
     "metadata": {},
     "output_type": "execute_result"
    }
   ],
   "source": [
    "lambda bla: bla * 2"
   ]
  },
  {
   "cell_type": "markdown",
   "metadata": {},
   "source": [
    "We just defined a lambda function: we first used the **lambda** keyword, followed by an argument name of our choice, and then instructions on what to do with this argument: in this case, multiply it by two. but we cannot really use it like this, as it is not stored anywhere. To make it usable, we need to give it a name:"
   ]
  },
  {
   "cell_type": "code",
   "execution_count": 20,
   "metadata": {},
   "outputs": [],
   "source": [
    "ourfirstlambda = lambda bla: bla * 2"
   ]
  },
  {
   "cell_type": "markdown",
   "metadata": {},
   "source": [
    "We have just given our lambda function a name, in a way that is similar to the way we declare variables. Let us now use it and see what happens:"
   ]
  },
  {
   "cell_type": "code",
   "execution_count": 21,
   "metadata": {},
   "outputs": [
    {
     "data": {
      "text/plain": [
       "20"
      ]
     },
     "execution_count": 21,
     "metadata": {},
     "output_type": "execute_result"
    }
   ],
   "source": [
    "ourfirstlambda(10)"
   ]
  },
  {
   "cell_type": "markdown",
   "metadata": {},
   "source": [
    "As expected, it returns the argument that we provided, multiplied by two. Lambda expressions are commonly found inside **map()** statements:"
   ]
  },
  {
   "cell_type": "code",
   "execution_count": 22,
   "metadata": {},
   "outputs": [
    {
     "name": "stdout",
     "output_type": "stream",
     "text": [
      "[1, 4, 9]\n"
     ]
    }
   ],
   "source": [
    "somelist = [1,2,3]\n",
    "\n",
    "squares = list(map(lambda x: x * x,\n",
    "                   somelist))\n",
    "\n",
    "print(squares)"
   ]
  },
  {
   "cell_type": "code",
   "execution_count": 23,
   "metadata": {},
   "outputs": [
    {
     "data": {
      "text/plain": [
       "[1, 4, 9]"
      ]
     },
     "execution_count": 23,
     "metadata": {},
     "output_type": "execute_result"
    }
   ],
   "source": [
    "list(map(lambda x: x * x,\n",
    "                   somelist))"
   ]
  },
  {
   "cell_type": "markdown",
   "metadata": {},
   "source": [
    "What we just saw is an example of functional programming: we used the **map()** statement to take a function (lambda x: x * x), and we applied it to every item inside our list. Finally, because the map() statement returns map objects, we converted the result to a list so that we could print it.\n",
    "\n",
    "Exercise:\n",
    "\n",
    "Declare a list, then use the list(map(lambda(...))) construct to multiply every item in somelist by 2. "
   ]
  },
  {
   "cell_type": "code",
   "execution_count": 24,
   "metadata": {},
   "outputs": [
    {
     "data": {
      "text/plain": [
       "[2, 4, 6]"
      ]
     },
     "execution_count": 24,
     "metadata": {},
     "output_type": "execute_result"
    }
   ],
   "source": [
    "list(map(lambda x: x * 2, somelist))"
   ]
  },
  {
   "cell_type": "markdown",
   "metadata": {},
   "source": [
    "## Optional Exercises:\n",
    "\n",
    "1. Define a function that takes no arguments and only prints your name.\n",
    "\n",
    "2. Define a function that prints an argument.\n",
    "\n",
    "3. Define a function that takes two arguments, one list and one integer, and returns the list multiplied by the number (e.g. your_function([1,2,3],2) should return [1,2,3,1,2,3]).\n",
    "\n",
    "4. Define a function that takes two arguments, one list and one float, and returns another list where every item has been multiplied by the float (e.g. your_function([1,2,3],2) should return([2,4,6]). Hint: you may want to use a loop here.\n",
    "\n",
    "5. Define a lambda function that takes one argument, and returns its reciprocal (e.g. with argument = 2 it should return 1/2, 3 should return 1/3, and so on).\n",
    "\n",
    "6. Use the list-map construct to map the function you defined in exercise 5 to all numbers from 1 to 100."
   ]
  },
  {
   "cell_type": "code",
   "execution_count": 1,
   "metadata": {},
   "outputs": [
    {
     "name": "stdout",
     "output_type": "stream",
     "text": [
      "Fabio\n"
     ]
    }
   ],
   "source": [
    "def printmyname():\n",
    "    print(\"Fabio\")\n",
    "    \n",
    "printmyname()"
   ]
  },
  {
   "cell_type": "code",
   "execution_count": 2,
   "metadata": {},
   "outputs": [
    {
     "name": "stdout",
     "output_type": "stream",
     "text": [
      "Hello world\n"
     ]
    }
   ],
   "source": [
    "def printsomethingelse(argument):\n",
    "    print(argument)\n",
    "\n",
    "printsomethingelse(\"Hello world\")"
   ]
  },
  {
   "cell_type": "code",
   "execution_count": 3,
   "metadata": {},
   "outputs": [
    {
     "data": {
      "text/plain": [
       "[1, 2, 3, 1, 2, 3]"
      ]
     },
     "execution_count": 3,
     "metadata": {},
     "output_type": "execute_result"
    }
   ],
   "source": [
    "def ex3(arg1,arg2):\n",
    "    return arg1*2\n",
    "\n",
    "ex3([1,2,3],2)"
   ]
  },
  {
   "cell_type": "code",
   "execution_count": 4,
   "metadata": {},
   "outputs": [
    {
     "data": {
      "text/plain": [
       "[2.0, 4.0, 6.0]"
      ]
     },
     "execution_count": 4,
     "metadata": {},
     "output_type": "execute_result"
    }
   ],
   "source": [
    "def ex4(arg1,arg2):\n",
    "    out = []\n",
    "    for i in arg1:\n",
    "        out.append(i*arg2)\n",
    "    return out\n",
    "\n",
    "ex4([1,2,3],2.0)"
   ]
  },
  {
   "cell_type": "code",
   "execution_count": 5,
   "metadata": {},
   "outputs": [],
   "source": [
    "reciprocal = lambda x: 1/x"
   ]
  },
  {
   "cell_type": "code",
   "execution_count": 7,
   "metadata": {},
   "outputs": [
    {
     "data": {
      "text/plain": [
       "True"
      ]
     },
     "execution_count": 7,
     "metadata": {},
     "output_type": "execute_result"
    }
   ],
   "source": [
    "reciprocal(10000) == 1/10000"
   ]
  },
  {
   "cell_type": "code",
   "execution_count": 9,
   "metadata": {},
   "outputs": [],
   "source": [
    "reciprocals1to100 = list(map(reciprocal, range(1, 101)))"
   ]
  },
  {
   "cell_type": "code",
   "execution_count": 12,
   "metadata": {},
   "outputs": [
    {
     "data": {
      "text/plain": [
       "'positive'"
      ]
     },
     "execution_count": 12,
     "metadata": {},
     "output_type": "execute_result"
    }
   ],
   "source": [
    "blabla = lambda x: \"positive\" if x > 0 else \"negative\" if x < 0 else \"zero\"\n",
    "blabla(1)"
   ]
  },
  {
   "cell_type": "markdown",
   "metadata": {},
   "source": [
    "![Pandas](https://giant.gfycat.com/AthleticLittleHorseshoecrab.gif)"
   ]
  },
  {
   "cell_type": "markdown",
   "metadata": {},
   "source": [
    "![Pandas](https://preview.redd.it/g4h0lnp2wqk21.jpg?width=614&auto=webp&s=1fc6477e65a87eb3aba4ba82a2680ca8d127940c)"
   ]
  },
  {
   "cell_type": "code",
   "execution_count": 10,
   "metadata": {},
   "outputs": [
    {
     "data": {
      "text/plain": [
       "[1.0,\n",
       " 0.5,\n",
       " 0.3333333333333333,\n",
       " 0.25,\n",
       " 0.2,\n",
       " 0.16666666666666666,\n",
       " 0.14285714285714285,\n",
       " 0.125,\n",
       " 0.1111111111111111,\n",
       " 0.1,\n",
       " 0.09090909090909091,\n",
       " 0.08333333333333333,\n",
       " 0.07692307692307693,\n",
       " 0.07142857142857142,\n",
       " 0.06666666666666667,\n",
       " 0.0625,\n",
       " 0.058823529411764705,\n",
       " 0.05555555555555555,\n",
       " 0.05263157894736842,\n",
       " 0.05,\n",
       " 0.047619047619047616,\n",
       " 0.045454545454545456,\n",
       " 0.043478260869565216,\n",
       " 0.041666666666666664,\n",
       " 0.04,\n",
       " 0.038461538461538464,\n",
       " 0.037037037037037035,\n",
       " 0.03571428571428571,\n",
       " 0.034482758620689655,\n",
       " 0.03333333333333333,\n",
       " 0.03225806451612903,\n",
       " 0.03125,\n",
       " 0.030303030303030304,\n",
       " 0.029411764705882353,\n",
       " 0.02857142857142857,\n",
       " 0.027777777777777776,\n",
       " 0.02702702702702703,\n",
       " 0.02631578947368421,\n",
       " 0.02564102564102564,\n",
       " 0.025,\n",
       " 0.024390243902439025,\n",
       " 0.023809523809523808,\n",
       " 0.023255813953488372,\n",
       " 0.022727272727272728,\n",
       " 0.022222222222222223,\n",
       " 0.021739130434782608,\n",
       " 0.02127659574468085,\n",
       " 0.020833333333333332,\n",
       " 0.02040816326530612,\n",
       " 0.02,\n",
       " 0.0196078431372549,\n",
       " 0.019230769230769232,\n",
       " 0.018867924528301886,\n",
       " 0.018518518518518517,\n",
       " 0.01818181818181818,\n",
       " 0.017857142857142856,\n",
       " 0.017543859649122806,\n",
       " 0.017241379310344827,\n",
       " 0.01694915254237288,\n",
       " 0.016666666666666666,\n",
       " 0.01639344262295082,\n",
       " 0.016129032258064516,\n",
       " 0.015873015873015872,\n",
       " 0.015625,\n",
       " 0.015384615384615385,\n",
       " 0.015151515151515152,\n",
       " 0.014925373134328358,\n",
       " 0.014705882352941176,\n",
       " 0.014492753623188406,\n",
       " 0.014285714285714285,\n",
       " 0.014084507042253521,\n",
       " 0.013888888888888888,\n",
       " 0.0136986301369863,\n",
       " 0.013513513513513514,\n",
       " 0.013333333333333334,\n",
       " 0.013157894736842105,\n",
       " 0.012987012987012988,\n",
       " 0.01282051282051282,\n",
       " 0.012658227848101266,\n",
       " 0.0125,\n",
       " 0.012345679012345678,\n",
       " 0.012195121951219513,\n",
       " 0.012048192771084338,\n",
       " 0.011904761904761904,\n",
       " 0.011764705882352941,\n",
       " 0.011627906976744186,\n",
       " 0.011494252873563218,\n",
       " 0.011363636363636364,\n",
       " 0.011235955056179775,\n",
       " 0.011111111111111112,\n",
       " 0.01098901098901099,\n",
       " 0.010869565217391304,\n",
       " 0.010752688172043012,\n",
       " 0.010638297872340425,\n",
       " 0.010526315789473684,\n",
       " 0.010416666666666666,\n",
       " 0.010309278350515464,\n",
       " 0.01020408163265306,\n",
       " 0.010101010101010102,\n",
       " 0.01]"
      ]
     },
     "execution_count": 10,
     "metadata": {},
     "output_type": "execute_result"
    }
   ],
   "source": [
    "reciprocals1to100"
   ]
  }
 ],
 "metadata": {
  "kernelspec": {
   "display_name": "Python 3",
   "language": "python",
   "name": "python3"
  },
  "language_info": {
   "codemirror_mode": {
    "name": "ipython",
    "version": 3
   },
   "file_extension": ".py",
   "mimetype": "text/x-python",
   "name": "python",
   "nbconvert_exporter": "python",
   "pygments_lexer": "ipython3",
   "version": "3.6.8"
  }
 },
 "nbformat": 4,
 "nbformat_minor": 2
}
