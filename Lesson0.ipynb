{
 "cells": [
  {
   "cell_type": "markdown",
   "metadata": {},
   "source": [
    "<center>\n",
    "    <h1>\n",
    "            Introduction to Python\n",
    "    </h1></center><p><p>\n",
    "\n",
    "<h3>Lesson zero</h3>\n",
    "\n",
    "25/02/2019\n",
    "\n",
    "fabio.grassi@aalto.fi\n"
   ]
  },
  {
   "cell_type": "markdown",
   "metadata": {},
   "source": [
    "# -0.1: Python 2 vs 3, and a few words about Jupyter Notebooks\n",
    "\n",
    "### Python 2 vs. 3\n",
    "\n",
    "There are two main versions of Python: 2 and 3. This course will focus on Python 3, but unfortunately it is quite likely that you will be using Python 2. We will try to upgrade your version to Python 3, but meanwhile, we can make 2 behave like 3 by using the following command at the beginning of our notebook:\n",
    "\n",
    "    from __future__ import absolute_import, division, print_function\n",
    "    \n",
    "The differences between 2 and 3 are small, but significant. You do not need to concern yourself with them for now.\n",
    "\n",
    "### Jupyter Notebooks\n",
    "\n",
    "Jupyter Notebooks are a modular environment for programming in several different languages (e.g. Python, R). The distinctive feature of Jupyter Notebooks is that it enables users to run isolated blocks of code, instead of having to run a whole script or program from start to finish. This can be extremely useful during data exploration, or if your script is over 1000 lines long and you only wish to test a small section of your code.\n",
    "\n",
    "You can select a cell by clicking on it. When in edit mode, the frame surrounding the cell will be green. If you press **\"esc\"**, the frame will turn blue: you can now navigate to other cells using the arrow keys, and you can create new cells above or below the selected one by pressing **\"a\"** (for \"above\") or **\"b\"** (for \"below\"). Cells can also be removed: this is done by pressing the **\"x\"** button, which is equivalent to \"cut\". **Please note that there is no undo button**: a cut cell can still be pasted by pressing **\"v\"**, but only the last cut cell is kept in memory, so if you cut two cells, the previous one will be unrecoverable.\n",
    "\n",
    "Cells can either contain code or text. To switch, you can either press **\"m\"** (for text/Markdown) and **\"y\"** (for code), or you can just click on the drop down menu to the right the \"fast forward\" (>>) symbol and select **\"Code\"** or **\"Markdown\"**. At any time, you can also click on the rightmost button and view a complete list of all available keyboard shortcuts.\n",
    "\n",
    "In order to run a cell, you can press either **Ctrl + Enter** or **Shift + Enter**. The only difference is that Shift + Enter will automatically move you to the next cell.\n",
    "\n",
    "Below is a brief summary table:\n",
    "\n",
    "| Command  | Result  |\n",
    "|:-:|:-:|\n",
    "| a  | Create new cell (above) |\n",
    "| b  | Create new cell (below) |\n",
    "| c  | Copy selected cell |\n",
    "| x  | Cut selected cell |\n",
    "| v  | Paste selected cell |\n",
    "| m  | Switch to Markdown |\n",
    "| y  | Switch to code |\n",
    "| Ctrl+Enter  | Run selected cell |\n",
    "| Shift+enter  | Run selected cell and move to the one below |\n"
   ]
  },
  {
   "cell_type": "markdown",
   "metadata": {},
   "source": [
    " \n",
    " "
   ]
  },
  {
   "cell_type": "markdown",
   "metadata": {},
   "source": [
    "# 0.0: Hello World"
   ]
  },
  {
   "cell_type": "markdown",
   "metadata": {},
   "source": [
    "Historically, every programming course begins with a program that simply prints \"Hello World!\" to the screen. Below are some examples taken from https://en.wikibooks.org/wiki/Computer_Programming/Hello_world."
   ]
  },
  {
   "cell_type": "markdown",
   "metadata": {},
   "source": [
    "### Hello world program in different programming languages\n",
    "\n",
    "### C++:\n",
    "\n",
    "    #include <iostream>\n",
    "    \n",
    "    int main(){\n",
    "        std::cout << \"Hello, World!\" << std::endl;\n",
    "        return 0;\n",
    "    }\n",
    "\n",
    "### Java:\n",
    "    \n",
    "    public class HelloWorld extends java.lang.Object{\n",
    "     public HelloWorld();\n",
    "      Code:\n",
    "       0:   aload_0\n",
    "       1:   invokespecial   #1; //Method java/lang/Object.\"<init>\":()V\n",
    "       4:   return\n",
    "     public static void main(java.lang.String[]);\n",
    "      Code:\n",
    "       0:   getstatic       #2; //Field java/lang/System.out:Ljava/io/PrintStream;\n",
    "       3:   ldc     #3; //String Hello, world!\n",
    "       5:   invokevirtual   #4; //Method java/io/PrintStream.println:(Ljava/lang/String;)V\n",
    "       8:   return\n",
    "     }\n",
    "    \n",
    "### ArnoldC:\n",
    "\n",
    "    IT'S SHOWTIME\n",
    "    TALK TO THE HAND \"Hello, World!\"\n",
    "    YOU HAVE BEEN TERMINATED\n",
    "    \n",
    "### Brainfuck:\n",
    "    \n",
    "    ++++++++[>++++[>++>+++>+++>+<<<<-]>+>+>->>+[<]<-]>>.>---.+++++++..+++.>>.<-.<.+++.------.--------.>>+.>++.\n"
   ]
  },
  {
   "cell_type": "markdown",
   "metadata": {},
   "source": [
    "One of the reasons Python became so popular is that it was designed to be **easy to read**. Here is the same program in Python:"
   ]
  },
  {
   "cell_type": "code",
   "execution_count": 1,
   "metadata": {},
   "outputs": [
    {
     "name": "stdout",
     "output_type": "stream",
     "text": [
      "Hello World!\n"
     ]
    }
   ],
   "source": [
    "print(\"Hello World!\")"
   ]
  },
  {
   "cell_type": "markdown",
   "metadata": {},
   "source": [
    "Just one line of code, and it reads like English. **print()** is a **function** that prints a value to the screen. The value is called the **argument** of the function. In our case, the argument is the sentence \"Hello World!\".\n",
    "\n",
    "    print(\"Hello World!\")\n",
    "    _____ _____________\n",
    "      ^           ^\n",
    "      |           |\n",
    "    function   argument\n",
    "\n",
    "We will look at functions later, but for now, just know that some functions take no arguments, some functions take a fixed number of arguments, and some can take as many arguments as you want. The **print()** function can take any number of arguments. Had we been so inclined, we could have achieved the same goal in a slightly different way:"
   ]
  },
  {
   "cell_type": "code",
   "execution_count": 2,
   "metadata": {},
   "outputs": [
    {
     "name": "stdout",
     "output_type": "stream",
     "text": [
      "Hello World!\n"
     ]
    }
   ],
   "source": [
    "print(\"Hello\", \"World!\")"
   ]
  },
  {
   "cell_type": "markdown",
   "metadata": {},
   "source": [
    "Notice that this time we passed the words one by one instead of together, separated by a comma. Though not particularly interesting in this case, this property can be extremely useful, as we will see very soon."
   ]
  },
  {
   "cell_type": "markdown",
   "metadata": {},
   "source": [
    "## 0.1: Variables"
   ]
  },
  {
   "cell_type": "markdown",
   "metadata": {},
   "source": [
    "As is common with programming languages, in Python you can store values as variables. This is done by declaring the variable's name, followed by the equals sign, and then the value we wish to assign to it. The variable can then be called using its variable name, as shown below."
   ]
  },
  {
   "cell_type": "code",
   "execution_count": 3,
   "metadata": {},
   "outputs": [
    {
     "name": "stdout",
     "output_type": "stream",
     "text": [
      "Hello World!\n",
      "How much wood would a woodchuck chuck if a woodchuck could chuck wood?\n"
     ]
    }
   ],
   "source": [
    "mystring = \"Hello World!\"\n",
    "\n",
    "print(mystring)\n",
    "\n",
    "mystring2 = \"How much wood would a woodchuck chuck if a woodchuck could chuck wood?\"\n",
    "\n",
    "print(mystring2)"
   ]
  },
  {
   "cell_type": "markdown",
   "metadata": {},
   "source": [
    "Along with a name and a value, a variable is also defined by a **type**. A type determines what kind of operations can be performed with a certain variable. The variables we defined above are **str**, which is short for **string**. This can be verified using the *type* statement:"
   ]
  },
  {
   "cell_type": "code",
   "execution_count": 4,
   "metadata": {},
   "outputs": [
    {
     "data": {
      "text/plain": [
       "str"
      ]
     },
     "execution_count": 4,
     "metadata": {},
     "output_type": "execute_result"
    }
   ],
   "source": [
    "type(mystring)"
   ]
  },
  {
   "cell_type": "markdown",
   "metadata": {},
   "source": [
    "Here are some more examples of variables, with different types."
   ]
  },
  {
   "cell_type": "code",
   "execution_count": 5,
   "metadata": {},
   "outputs": [],
   "source": [
    "myint = 2\n",
    "\n",
    "myfloat = 2.5\n",
    "\n",
    "mybool = False\n",
    "\n",
    "mylist = [0, \"one\", True]\n",
    "\n",
    "mydict = {\"thank you\":\"kiitos\", 10:True}\n",
    "\n",
    "mytuple = (3.14, 6.022*10**23, 6.626*10**(-34))"
   ]
  },
  {
   "cell_type": "markdown",
   "metadata": {},
   "source": [
    "Let us use the *print* statement to display the types of the variables we just declared."
   ]
  },
  {
   "cell_type": "code",
   "execution_count": 6,
   "metadata": {},
   "outputs": [
    {
     "name": "stdout",
     "output_type": "stream",
     "text": [
      "<class 'int'>\n",
      "<class 'float'>\n",
      "<class 'bool'>\n",
      "<class 'list'>\n",
      "<class 'dict'>\n",
      "<class 'tuple'>\n"
     ]
    }
   ],
   "source": [
    "print(type(myint))\n",
    "print(type(myfloat))\n",
    "print(type(mybool))\n",
    "print(type(mylist))\n",
    "print(type(mydict))\n",
    "print(type(mytuple))"
   ]
  },
  {
   "cell_type": "markdown",
   "metadata": {},
   "source": [
    "A quick description of the types we just saw:\n",
    "\n",
    "**int**: integers (0, 1, -2, 3...)\n",
    "\n",
    "**float**: floating point numbers (2.718, 3.142...)\n",
    "\n",
    "**bool**: True or False\n",
    "\n",
    "**list**: this one is very important. Enclosed between square brackets, [], a list is an ordered collection of items, which can be accessed by referencing their position within the list itself. Note that the items do not need to be of the same type. More on lists in a moment.\n",
    "\n",
    "**dict**: also quite important. A dict, or dictionary, is also a collection of items within curly brackets, {}, which can be accessed via their name within the dictionary. Again, items do not need to be all of the same type. More on dictionaries soon.\n",
    "\n",
    "**tuple**: this is essentially the same as a list, but between round brackets, (), and with the one notable difference that it **cannot be modified**. \n",
    "\n",
    "There are of course other variable types, and you can even define your own, but these are by far the most common ones. \n",
    "<br>\n",
    "<br>\n",
    "\n",
    "\n",
    "### Exercise:\n",
    "\n",
    "Declare some variables and print them.\n",
    "\n",
    "\n",
    "<br>\n",
    "<br>\n",
    "<br>\n",
    "<br>\n",
    "\n",
    "\n",
    "Let's look at some examples of what we can do with them."
   ]
  },
  {
   "cell_type": "code",
   "execution_count": 7,
   "metadata": {},
   "outputs": [],
   "source": [
    "a = 4\n",
    "b = 2.0\n",
    "c = \"I love \" # Mind the space at the end! By the way, this is a comment. Comments can be placed anywhere, using the # sign.\n",
    "d = 'Python' # Notice that you can use both single and double quotes for strings.\n",
    "e = [\"I\",\"REALLY\",\"love\",\"Python\"]"
   ]
  },
  {
   "cell_type": "code",
   "execution_count": 8,
   "metadata": {},
   "outputs": [
    {
     "name": "stdout",
     "output_type": "stream",
     "text": [
      "6.0 \n",
      "\n",
      "0 \n",
      "\n",
      "4.0 \n",
      "\n",
      "1.0 \n",
      "\n",
      "16.0 \n",
      "\n"
     ]
    }
   ],
   "source": [
    "# Addition:\n",
    "addition = a+b\n",
    "\n",
    "print(addition, \"\\n\") # The second argument, \"\\n\", tells Python to go to a new line.\n",
    "\n",
    "# Subtraction:\n",
    "print(a-a, \"\\n\")\n",
    "\n",
    "# Multiplication:\n",
    "mult = b*b\n",
    "print(mult, \"\\n\")\n",
    "\n",
    "# Division:\n",
    "print(a/a, \"\\n\")\n",
    "\n",
    "# Exponentiation (i.e. a to the power of b):\n",
    "print(a**b, \"\\n\")"
   ]
  },
  {
   "cell_type": "markdown",
   "metadata": {},
   "source": [
    "Notice how operations involving int and float will return a float. Now let's look at something a little different:"
   ]
  },
  {
   "cell_type": "code",
   "execution_count": 9,
   "metadata": {},
   "outputs": [
    {
     "name": "stdout",
     "output_type": "stream",
     "text": [
      "I love \n",
      "Python\n",
      "I love Python\n"
     ]
    }
   ],
   "source": [
    "print(c)\n",
    "print(d)\n",
    "print(c + d)"
   ]
  },
  {
   "cell_type": "markdown",
   "metadata": {},
   "source": [
    "The addition operator also works on strings: c + d returns the \"sum\" of the two strings which were assigned variable names c and d. What happens if we try to subtract one string from another?"
   ]
  },
  {
   "cell_type": "code",
   "execution_count": 10,
   "metadata": {},
   "outputs": [
    {
     "ename": "TypeError",
     "evalue": "unsupported operand type(s) for -: 'str' and 'str'",
     "output_type": "error",
     "traceback": [
      "\u001b[1;31m---------------------------------------------------------------------------\u001b[0m",
      "\u001b[1;31mTypeError\u001b[0m                                 Traceback (most recent call last)",
      "\u001b[1;32m<ipython-input-10-8c8184020c8c>\u001b[0m in \u001b[0;36m<module>\u001b[1;34m\u001b[0m\n\u001b[1;32m----> 1\u001b[1;33m \u001b[0mprint\u001b[0m\u001b[1;33m(\u001b[0m\u001b[0mc\u001b[0m \u001b[1;33m-\u001b[0m \u001b[0md\u001b[0m\u001b[1;33m)\u001b[0m\u001b[1;33m\u001b[0m\u001b[1;33m\u001b[0m\u001b[0m\n\u001b[0m",
      "\u001b[1;31mTypeError\u001b[0m: unsupported operand type(s) for -: 'str' and 'str'"
     ]
    }
   ],
   "source": [
    "print(c - d)"
   ]
  },
  {
   "cell_type": "markdown",
   "metadata": {},
   "source": [
    "In this case, Python informs us that we have a **TypeError**: the operation we tried to perform (subtraction) is not supported between strings. Let's try a few more:"
   ]
  },
  {
   "cell_type": "code",
   "execution_count": 11,
   "metadata": {},
   "outputs": [
    {
     "name": "stdout",
     "output_type": "stream",
     "text": [
      "I love I love I love I love \n"
     ]
    }
   ],
   "source": [
    "print(c*a)"
   ]
  },
  {
   "cell_type": "markdown",
   "metadata": {},
   "source": [
    "Remember, variable a was assigned value 4. By saying c * a, we are telling Python that we want string c to be repeated 4 times, which is exactly what it did. What happens if we multiply by b, which was assigned value 2.0?"
   ]
  },
  {
   "cell_type": "code",
   "execution_count": 12,
   "metadata": {},
   "outputs": [
    {
     "ename": "TypeError",
     "evalue": "can't multiply sequence by non-int of type 'float'",
     "output_type": "error",
     "traceback": [
      "\u001b[1;31m---------------------------------------------------------------------------\u001b[0m",
      "\u001b[1;31mTypeError\u001b[0m                                 Traceback (most recent call last)",
      "\u001b[1;32m<ipython-input-12-216012ccfbe4>\u001b[0m in \u001b[0;36m<module>\u001b[1;34m\u001b[0m\n\u001b[1;32m----> 1\u001b[1;33m \u001b[0mprint\u001b[0m\u001b[1;33m(\u001b[0m\u001b[0mb\u001b[0m \u001b[1;33m*\u001b[0m \u001b[0mc\u001b[0m\u001b[1;33m)\u001b[0m\u001b[1;33m\u001b[0m\u001b[1;33m\u001b[0m\u001b[0m\n\u001b[0m",
      "\u001b[1;31mTypeError\u001b[0m: can't multiply sequence by non-int of type 'float'"
     ]
    }
   ],
   "source": [
    "print(b * c)"
   ]
  },
  {
   "cell_type": "markdown",
   "metadata": {},
   "source": [
    "Again, we run into a **TypeError**: we cannot multiply a string by a float. As you can probably guess, the same thing would happen if we tried to divide a string by either an int or a float.\n",
    "\n",
    "Another interesting thing we can do with strings is split them into single words. This can be achieved by calling the **split()** method:"
   ]
  },
  {
   "cell_type": "code",
   "execution_count": 13,
   "metadata": {},
   "outputs": [
    {
     "name": "stdout",
     "output_type": "stream",
     "text": [
      "I love \n",
      "['I', 'love']\n"
     ]
    }
   ],
   "source": [
    "print(c)\n",
    "print(c.split())"
   ]
  },
  {
   "cell_type": "markdown",
   "metadata": {},
   "source": [
    "When we use the **split()** method, Python automatically segments the string into words by cutting wherever it finds a space, and it returns the isolated words as a **list**."
   ]
  },
  {
   "cell_type": "code",
   "execution_count": 14,
   "metadata": {},
   "outputs": [
    {
     "data": {
      "text/plain": [
       "['I', 'love']"
      ]
     },
     "execution_count": 14,
     "metadata": {},
     "output_type": "execute_result"
    }
   ],
   "source": [
    "c.split()"
   ]
  },
  {
   "cell_type": "markdown",
   "metadata": {},
   "source": [
    "## 0.2: Lists"
   ]
  },
  {
   "cell_type": "markdown",
   "metadata": {},
   "source": [
    "Let's now look at the last variable we defined in our previous example, variable e:"
   ]
  },
  {
   "cell_type": "code",
   "execution_count": 15,
   "metadata": {},
   "outputs": [
    {
     "name": "stdout",
     "output_type": "stream",
     "text": [
      "['I', 'REALLY', 'love', 'Python']\n"
     ]
    }
   ],
   "source": [
    "print(e)"
   ]
  },
  {
   "cell_type": "markdown",
   "metadata": {},
   "source": [
    "Variable e is a **list**. You can tell by the square brackets. As mentioned before, lists are collections of objects. Each object can be called separately by typing the list's name, followed by its **index** (that is, its position within the list) enclosed in square brackets:"
   ]
  },
  {
   "cell_type": "code",
   "execution_count": 16,
   "metadata": {},
   "outputs": [
    {
     "name": "stdout",
     "output_type": "stream",
     "text": [
      "I\n",
      "REALLY\n",
      "love\n",
      "Python\n"
     ]
    }
   ],
   "source": [
    "print(e[0]) # First item is always zero!\n",
    "print(e[1])\n",
    "print(e[2])\n",
    "print(e[3])"
   ]
  },
  {
   "cell_type": "markdown",
   "metadata": {},
   "source": [
    "Sometimes, you may wish to access lists backwards, i.e. counting from the last item. This can be done very easily. Suppose I wanted to use the last item, second to last, third to last... in my list, I would use the same syntax as above, but I would use the minus sign for the index:"
   ]
  },
  {
   "cell_type": "code",
   "execution_count": 17,
   "metadata": {},
   "outputs": [
    {
     "name": "stdout",
     "output_type": "stream",
     "text": [
      "Python\n",
      "love\n",
      "REALLY\n",
      "I\n"
     ]
    }
   ],
   "source": [
    "print(e[-1])\n",
    "print(e[-2])\n",
    "print(e[-3])\n",
    "print(e[-4])"
   ]
  },
  {
   "cell_type": "markdown",
   "metadata": {},
   "source": [
    "Note that while the first item is accessed with index 0, the last item is **not** accessed with -0, but rather -1. This is because, arithmetically, 0 and -0 are the same, and so e[-0] refers to the same object as e[0].\n",
    "\n",
    "Let's now look at another list:"
   ]
  },
  {
   "cell_type": "code",
   "execution_count": 18,
   "metadata": {},
   "outputs": [
    {
     "name": "stdout",
     "output_type": "stream",
     "text": [
      "['money', 'money', 'money', 'must', 'be', 'funny', 'in', 'the', 'rich', \"man's\", 'world']\n"
     ]
    }
   ],
   "source": [
    "newstring = \"money money money must be funny in the rich man's world\"\n",
    "newlist = newstring.split()\n",
    "print(newlist)"
   ]
  },
  {
   "cell_type": "markdown",
   "metadata": {},
   "source": [
    "Lists come with several built-in methods. To view them, you can type the name of your list, followed by a dot, and then press tab. One such method is **\"count\"**. If we wanted to know how many times the word \"money\" appears in our string, we could do the following:"
   ]
  },
  {
   "cell_type": "code",
   "execution_count": 19,
   "metadata": {},
   "outputs": [
    {
     "name": "stdout",
     "output_type": "stream",
     "text": [
      "3\n"
     ]
    }
   ],
   "source": [
    "print(newlist.count(\"money\"))"
   ]
  },
  {
   "cell_type": "markdown",
   "metadata": {},
   "source": [
    "Suppose we wanted to look at the first three elements in the string. We could select each one individually, newlist[0], newlist[1], newlist[2].\n",
    "\n",
    "Another possibility is to use a slice:"
   ]
  },
  {
   "cell_type": "code",
   "execution_count": 20,
   "metadata": {},
   "outputs": [
    {
     "name": "stdout",
     "output_type": "stream",
     "text": [
      "funny\n"
     ]
    },
    {
     "data": {
      "text/plain": [
       "['money', 'money', 'money']"
      ]
     },
     "execution_count": 20,
     "metadata": {},
     "output_type": "execute_result"
    }
   ],
   "source": [
    "print(newlist[5])\n",
    "newlist[0:3]"
   ]
  },
  {
   "cell_type": "markdown",
   "metadata": {},
   "source": [
    "Notice the syntax: instead of a single index number, we specified the first index number to look for, followed by the colon sign, and the index number at which we wanted to stop. In our case, we wanted index items 0, 1, and 2, so we stop at 3, thus newlist[0:3].\n",
    "\n",
    "Here, we included 0 for clarity, but you should know that, when we want to slice from the beginning of a list, the 0 can be omitted. So newlist[0:3] can also be written as newlist[:3].\n",
    "\n",
    "We can also do this using reverse indexing:"
   ]
  },
  {
   "cell_type": "code",
   "execution_count": 21,
   "metadata": {},
   "outputs": [
    {
     "data": {
      "text/plain": [
       "['in', 'the', 'rich']"
      ]
     },
     "execution_count": 21,
     "metadata": {},
     "output_type": "execute_result"
    }
   ],
   "source": [
    "newlist[-5:-2]"
   ]
  },
  {
   "cell_type": "markdown",
   "metadata": {},
   "source": [
    "And, again, if we want to slice until the last element, we can simply omit the last value, e.g. [-5:]:"
   ]
  },
  {
   "cell_type": "code",
   "execution_count": 22,
   "metadata": {},
   "outputs": [
    {
     "data": {
      "text/plain": [
       "['in', 'the', 'rich', \"man's\", 'world']"
      ]
     },
     "execution_count": 22,
     "metadata": {},
     "output_type": "execute_result"
    }
   ],
   "source": [
    "newlist[-5:]"
   ]
  },
  {
   "cell_type": "markdown",
   "metadata": {},
   "source": [
    "As we mentioned earlier, a list can contain different types of items. This includes lists themselves:"
   ]
  },
  {
   "cell_type": "code",
   "execution_count": 23,
   "metadata": {},
   "outputs": [],
   "source": [
    "# Do not worry too much about the indentation for now. \n",
    "# Jupyter Notebooks will take care of it automatically - just don't change it.\n",
    "\n",
    "list_of_lists = [[\"first inner list\",True], \n",
    "                 [\"second inner list\",99,[\"inner list within second list\",1,2]]]"
   ]
  },
  {
   "cell_type": "markdown",
   "metadata": {},
   "source": [
    "Should we want to access individual items in this list, we would use the following notation:"
   ]
  },
  {
   "cell_type": "code",
   "execution_count": 24,
   "metadata": {},
   "outputs": [
    {
     "name": "stdout",
     "output_type": "stream",
     "text": [
      "first inner list\n",
      "True\n",
      "second inner list\n",
      "99\n",
      "inner list within second list\n",
      "1\n",
      "2\n"
     ]
    }
   ],
   "source": [
    "print(list_of_lists[0][0])\n",
    "print(list_of_lists[0][1])\n",
    "print(list_of_lists[1][0])\n",
    "print(list_of_lists[1][1])\n",
    "print(list_of_lists[1][2][0])\n",
    "print(list_of_lists[1][2][1])\n",
    "print(list_of_lists[1][2][2])"
   ]
  },
  {
   "cell_type": "markdown",
   "metadata": {},
   "source": [
    "Suppose we now wanted to know how many items our list contains. We could count them ourselves, but it would be tedious. A simpler way to do it is to use **len()**:"
   ]
  },
  {
   "cell_type": "code",
   "execution_count": 25,
   "metadata": {},
   "outputs": [
    {
     "name": "stdout",
     "output_type": "stream",
     "text": [
      "4\n"
     ]
    }
   ],
   "source": [
    "anotherlist = [10,20,30,40]\n",
    "print(len(anotherlist))"
   ]
  },
  {
   "cell_type": "markdown",
   "metadata": {},
   "source": [
    "The len() function informs us that the list we just created is 4 items long.\n",
    "\n",
    "We can also perform certain operations with lists."
   ]
  },
  {
   "cell_type": "code",
   "execution_count": 26,
   "metadata": {},
   "outputs": [
    {
     "name": "stdout",
     "output_type": "stream",
     "text": [
      "[1, 2, 3, 'one', 'two', 'three']\n"
     ]
    }
   ],
   "source": [
    "somelist = [1,2,3]\n",
    "anotherlist = [\"one\",\"two\",\"three\"]\n",
    "print(somelist + anotherlist)"
   ]
  },
  {
   "cell_type": "markdown",
   "metadata": {},
   "source": [
    "As you can see, if we use the \"+\" operator on two lists, we obtain a new list which includes all the elements of the first two lists, in the order in which they appear. Let us try something else now:"
   ]
  },
  {
   "cell_type": "code",
   "execution_count": 27,
   "metadata": {},
   "outputs": [
    {
     "name": "stdout",
     "output_type": "stream",
     "text": [
      "[1, 2, 3, 1, 2, 3]\n"
     ]
    }
   ],
   "source": [
    "someint = 2\n",
    "print(somelist * someint)"
   ]
  },
  {
   "cell_type": "markdown",
   "metadata": {},
   "source": [
    "If we multiply a list by an integer, we get a list that is obtained by repeating the original one by a number of times equal to the integer (in our case, 2).\n",
    "\n",
    "Another interesting thing we can do with lists is **zipping**. Let us assume we have one list with the names of some students, and another list with their grades, and we wanted to match them. We could do this easily with the **zip()** function, as shown below:"
   ]
  },
  {
   "cell_type": "code",
   "execution_count": 28,
   "metadata": {},
   "outputs": [
    {
     "name": "stdout",
     "output_type": "stream",
     "text": [
      "[('Robert', 75), ('Adele', 88), ('Alice', 84), ('Frank', 97)]\n"
     ]
    }
   ],
   "source": [
    "students = [\"Robert\",\"Adele\",\"Alice\",\"Frank\"]\n",
    "grades = [75,88,84,97]\n",
    "print(list(zip(students,grades)))"
   ]
  },
  {
   "cell_type": "markdown",
   "metadata": {},
   "source": [
    "Note that the zip() function returns a zip() object, so we have to manually convert it to a list: print(**list(**zip(...)"
   ]
  },
  {
   "cell_type": "code",
   "execution_count": 29,
   "metadata": {},
   "outputs": [
    {
     "data": {
      "text/plain": [
       "<zip at 0x176c5612ec8>"
      ]
     },
     "execution_count": 29,
     "metadata": {},
     "output_type": "execute_result"
    }
   ],
   "source": [
    "zip(somelist, anotherlist)"
   ]
  },
  {
   "cell_type": "markdown",
   "metadata": {},
   "source": [
    "Often when dealing with lists, we may need to sort the values with them. This can be done in two ways: we can use the **sorted()** function, or we can use the **sort()** function. The differences are illustrated below:"
   ]
  },
  {
   "cell_type": "code",
   "execution_count": 30,
   "metadata": {},
   "outputs": [
    {
     "name": "stdout",
     "output_type": "stream",
     "text": [
      "[1, 2, 3, 4]\n",
      "[3, 1, 2, 4]\n"
     ]
    }
   ],
   "source": [
    "anotherlist = [3,1,2,4]\n",
    "sortedlist = sorted(anotherlist,reverse=False)\n",
    "print(sortedlist)\n",
    "print(anotherlist)"
   ]
  },
  {
   "cell_type": "code",
   "execution_count": 31,
   "metadata": {},
   "outputs": [
    {
     "name": "stdout",
     "output_type": "stream",
     "text": [
      "['a', 'b', 'c', 'd']\n"
     ]
    }
   ],
   "source": [
    "yetanotherlist = [\"b\",\"a\",\"d\",\"c\"]\n",
    "yetanotherlist.sort(reverse=False)\n",
    "print(yetanotherlist)"
   ]
  },
  {
   "cell_type": "markdown",
   "metadata": {},
   "source": [
    "In the first example, we used the **sorted()** function, which took our list as an argument (this means that we put the list's name inside the curved brackets). When we printed the outcome, we saw that the list had indeed been sorted, but when we then printed the original list, we could see that it had not been changed: **the sorted() function does not modify the original list**.\n",
    "\n",
    "In the second example, we used **sort()**, which is a built-in method of lists. Unlike sorted(), this method does not return another list, instead, **it alters the original list directly**, and should therefore be used wisely.\n",
    "\n",
    "In both cases, we used the (optional) argument \"reverse=False\". This tells the sorting function that we want the items arranged in ascending order. Had we used \"reverse=True\", the lists would have been sorted in descending order. The default option is reverse=False, so if no reverse option is specified, the lists will be arranged in ascending order."
   ]
  },
  {
   "cell_type": "markdown",
   "metadata": {},
   "source": [
    "Often we may have to change some items within a list. Maybe we wish to multiply one of the items by 10. This is easily accomplished:"
   ]
  },
  {
   "cell_type": "code",
   "execution_count": 32,
   "metadata": {},
   "outputs": [
    {
     "name": "stdout",
     "output_type": "stream",
     "text": [
      "[10, 20, 30, 40]\n",
      "[100, 20, 30, 40]\n"
     ]
    }
   ],
   "source": [
    "alist = [10,20,30,40]\n",
    "print(alist)\n",
    "alist[0] = alist[0] * 10\n",
    "print(alist)"
   ]
  },
  {
   "cell_type": "markdown",
   "metadata": {},
   "source": [
    "Another common operation is adding items to a list. This is done using the **append()** method:"
   ]
  },
  {
   "cell_type": "code",
   "execution_count": 33,
   "metadata": {},
   "outputs": [
    {
     "name": "stdout",
     "output_type": "stream",
     "text": [
      "[100, 20, 30, 40, 50]\n"
     ]
    }
   ],
   "source": [
    "alist.append(50)\n",
    "print(alist)"
   ]
  },
  {
   "cell_type": "markdown",
   "metadata": {},
   "source": [
    "### Exercise:\n",
    "\n",
    "Create a list of lists, and access each item separately."
   ]
  },
  {
   "cell_type": "markdown",
   "metadata": {},
   "source": [
    "## 0.3 Dictionaries"
   ]
  },
  {
   "cell_type": "markdown",
   "metadata": {},
   "source": [
    "As we saw before, dictionaries are similar to lists, in that they are collections of objects, however, instead of being ordered or numbered, they are each assigned a name, or **key**, and it is through that key that the items can then be accessed, using the same syntax as with lists (i.e. dictname[]):"
   ]
  },
  {
   "cell_type": "code",
   "execution_count": 34,
   "metadata": {},
   "outputs": [
    {
     "name": "stdout",
     "output_type": "stream",
     "text": [
      "{'check': 1, 'one': False, 'two': True}\n",
      "1\n",
      "False\n",
      "True\n"
     ]
    }
   ],
   "source": [
    "somedict = {\"check\" : 1, \"one\" : False, \"two\" : True}\n",
    "print(somedict)\n",
    "print(somedict[\"check\"])\n",
    "print(somedict[\"one\"])\n",
    "print(somedict[\"two\"])"
   ]
  },
  {
   "cell_type": "markdown",
   "metadata": {},
   "source": [
    "If we wished to access the keys and the values separately, we could do so using the **keys()** and **values()** methods:   "
   ]
  },
  {
   "cell_type": "code",
   "execution_count": 35,
   "metadata": {},
   "outputs": [
    {
     "name": "stdout",
     "output_type": "stream",
     "text": [
      "dict_keys(['check', 'one', 'two'])\n",
      "dict_values([1, False, True])\n"
     ]
    }
   ],
   "source": [
    "print(somedict.keys())\n",
    "print(somedict.values())"
   ]
  },
  {
   "cell_type": "markdown",
   "metadata": {},
   "source": [
    "And if at any time we wished to add another item to our dictionary, we could do so simply by assigning a value to a new key in the dictionary:"
   ]
  },
  {
   "cell_type": "code",
   "execution_count": 36,
   "metadata": {},
   "outputs": [
    {
     "name": "stdout",
     "output_type": "stream",
     "text": [
      "{'check': 1, 'one': False, 'two': True, 'some new key': 'some new value'}\n"
     ]
    }
   ],
   "source": [
    "somedict[\"some new key\"] = \"some new value\"\n",
    "print(somedict)"
   ]
  },
  {
   "cell_type": "markdown",
   "metadata": {},
   "source": [
    "### Optional Exercises:\n",
    "\n",
    "#### Exercise 1:\n",
    "\n",
    "Define three variables with the following values: \n",
    "\n",
    "* \"Aalto\" \n",
    "* 2\n",
    "* 0.5\n",
    "\n",
    "Remember the syntax is:\n",
    "\n",
    "    variable_name = 12345"
   ]
  },
  {
   "cell_type": "code",
   "execution_count": 1,
   "metadata": {},
   "outputs": [],
   "source": [
    "a = \"Aalto\"\n",
    "b = 2\n",
    "c = 0.5"
   ]
  },
  {
   "cell_type": "markdown",
   "metadata": {},
   "source": [
    "#### Exercise 2:\n",
    "\n",
    "\n",
    "Do some basic arithmetic with your variables (add, subtract, multiply, divide), e.g.:\n",
    "\n",
    "    print(variable1 + variable2)"
   ]
  },
  {
   "cell_type": "code",
   "execution_count": 2,
   "metadata": {},
   "outputs": [
    {
     "name": "stdout",
     "output_type": "stream",
     "text": [
      "AaltoAalto\n",
      "2.5\n",
      "1.0\n",
      "4.0\n",
      "AaltoAalto\n"
     ]
    }
   ],
   "source": [
    "print(a*2)\n",
    "print(b+c)\n",
    "print(b*c)\n",
    "print(b/c)\n",
    "print(a+a)"
   ]
  },
  {
   "cell_type": "markdown",
   "metadata": {},
   "source": [
    "#### Exercise 3:\n",
    "\n",
    "Declare some new variables by converting 2 to **float** and to **str**, then 0.5 to **int** and to **str**, and finally 0.5 and Aalto to **int**. The correct syntax is:\n",
    "\n",
    "    somefloat = 1.234\n",
    "    converted = str(somefloat)\n",
    "    \n",
    "    \n",
    "    \n"
   ]
  },
  {
   "cell_type": "code",
   "execution_count": 3,
   "metadata": {},
   "outputs": [],
   "source": [
    "d = float(2)\n",
    "e = str(2)\n",
    "f = int(0.5)"
   ]
  },
  {
   "cell_type": "code",
   "execution_count": 24,
   "metadata": {},
   "outputs": [
    {
     "name": "stdout",
     "output_type": "stream",
     "text": [
      "2.0 2 0\n"
     ]
    }
   ],
   "source": [
    "print(d,e,f)"
   ]
  },
  {
   "cell_type": "code",
   "execution_count": 23,
   "metadata": {},
   "outputs": [
    {
     "ename": "ValueError",
     "evalue": "invalid literal for int() with base 10: 'Aalto'",
     "output_type": "error",
     "traceback": [
      "\u001b[1;31m---------------------------------------------------------------------------\u001b[0m",
      "\u001b[1;31mValueError\u001b[0m                                Traceback (most recent call last)",
      "\u001b[1;32m<ipython-input-23-8b2ab3991dae>\u001b[0m in \u001b[0;36m<module>\u001b[1;34m\u001b[0m\n\u001b[1;32m----> 1\u001b[1;33m \u001b[0mint\u001b[0m\u001b[1;33m(\u001b[0m\u001b[0ma\u001b[0m\u001b[1;33m)\u001b[0m\u001b[1;33m\u001b[0m\u001b[1;33m\u001b[0m\u001b[0m\n\u001b[0m",
      "\u001b[1;31mValueError\u001b[0m: invalid literal for int() with base 10: 'Aalto'"
     ]
    }
   ],
   "source": [
    "int(a)"
   ]
  },
  {
   "cell_type": "markdown",
   "metadata": {},
   "source": [
    "#### Exercise 4:\n",
    "\n",
    "Given the following list\n",
    "\n",
    "mylist = [2, 8, 1, 3, 1, 13, 21, 5]\n",
    "\n",
    "* access the first, second, and last item in the list\n",
    "* declare a new variable, call it *second_item*, and assign it the value of the second item in the list (remember we count from 0, so the second item has index 1). The syntax is"
   ]
  },
  {
   "cell_type": "markdown",
   "metadata": {},
   "source": [
    "    newvariable = somelist[indexnumber]\n",
    "* Calculate the length and the sum of the list using functions len() and sum()\n",
    "* Now change the value of the second item in the list, with this syntax:"
   ]
  },
  {
   "cell_type": "markdown",
   "metadata": {},
   "source": [
    "    somelist[indexnumber] = newvalue"
   ]
  },
  {
   "cell_type": "markdown",
   "metadata": {},
   "source": [
    "* Print the values of the second_item variable, and of the list item you just modified. What do you notice?\n",
    "* Now change back the second item to 2, then order the list in ascending order."
   ]
  },
  {
   "cell_type": "code",
   "execution_count": 26,
   "metadata": {},
   "outputs": [],
   "source": [
    "mylist = [2,8,1,3,1,13,21,5]"
   ]
  },
  {
   "cell_type": "code",
   "execution_count": 27,
   "metadata": {},
   "outputs": [
    {
     "data": {
      "text/plain": [
       "2"
      ]
     },
     "execution_count": 27,
     "metadata": {},
     "output_type": "execute_result"
    }
   ],
   "source": [
    "mylist[0]"
   ]
  },
  {
   "cell_type": "code",
   "execution_count": 28,
   "metadata": {},
   "outputs": [
    {
     "data": {
      "text/plain": [
       "8"
      ]
     },
     "execution_count": 28,
     "metadata": {},
     "output_type": "execute_result"
    }
   ],
   "source": [
    "mylist[1]"
   ]
  },
  {
   "cell_type": "code",
   "execution_count": 29,
   "metadata": {},
   "outputs": [
    {
     "data": {
      "text/plain": [
       "5"
      ]
     },
     "execution_count": 29,
     "metadata": {},
     "output_type": "execute_result"
    }
   ],
   "source": [
    "mylist[-1]"
   ]
  },
  {
   "cell_type": "code",
   "execution_count": 30,
   "metadata": {},
   "outputs": [
    {
     "data": {
      "text/plain": [
       "21"
      ]
     },
     "execution_count": 30,
     "metadata": {},
     "output_type": "execute_result"
    }
   ],
   "source": [
    "mylist[-2]"
   ]
  },
  {
   "cell_type": "code",
   "execution_count": 31,
   "metadata": {},
   "outputs": [
    {
     "name": "stdout",
     "output_type": "stream",
     "text": [
      "8\n",
      "54\n"
     ]
    }
   ],
   "source": [
    "print(len(mylist))\n",
    "print(sum(mylist))"
   ]
  },
  {
   "cell_type": "code",
   "execution_count": 12,
   "metadata": {},
   "outputs": [
    {
     "name": "stdout",
     "output_type": "stream",
     "text": [
      "8 9\n"
     ]
    }
   ],
   "source": [
    "second_item = mylist[1]\n",
    "mylist[1] = mylist[1] + 1\n",
    "print(second_item, mylist[1])"
   ]
  },
  {
   "cell_type": "code",
   "execution_count": 13,
   "metadata": {},
   "outputs": [],
   "source": [
    "mylist[1] += -1"
   ]
  },
  {
   "cell_type": "code",
   "execution_count": 32,
   "metadata": {},
   "outputs": [],
   "source": [
    "sortedlist = sorted(mylist)"
   ]
  },
  {
   "cell_type": "code",
   "execution_count": 14,
   "metadata": {},
   "outputs": [
    {
     "name": "stdout",
     "output_type": "stream",
     "text": [
      "[1, 1, 2, 3, 5, 8, 13, 21]\n"
     ]
    }
   ],
   "source": [
    "mylist.sort()\n",
    "print(mylist)"
   ]
  },
  {
   "cell_type": "markdown",
   "metadata": {},
   "source": [
    "#### Exercise 5:\n",
    "\n",
    "Given the following lists:\n",
    "\n",
    "names = [\"Frank\",\"Adele\",\"Mark\",\"Bridget\"]\n",
    "\n",
    "grades = [79,86,89,82]\n",
    "\n",
    "* declare a new variable called *zipped*, and assign as value the result of zipping the two lists\n",
    "* convert *zipped* to a list and store the value in a new variable called *zipped_list*\n",
    "* print *zipped_list*\n",
    "* convert *zipped* to a dictionary and print it. What differences do you notice?"
   ]
  },
  {
   "cell_type": "code",
   "execution_count": 16,
   "metadata": {},
   "outputs": [
    {
     "name": "stdout",
     "output_type": "stream",
     "text": [
      "[('Frank', 79), ('Adele', 86), ('Mark', 89), ('Bridget', 82)]\n",
      "{}\n"
     ]
    }
   ],
   "source": [
    "names = [\"Frank\",\"Adele\",\"Mark\",\"Bridget\"]\n",
    "\n",
    "grades = [79,86,89,82]\n",
    "\n",
    "zipped = zip(names, grades)\n",
    "\n",
    "zipped_list = list(zipped)\n",
    "\n",
    "print(zipped_list)\n",
    "\n",
    "print(dict(zipped))"
   ]
  },
  {
   "cell_type": "code",
   "execution_count": 17,
   "metadata": {},
   "outputs": [
    {
     "data": {
      "text/plain": [
       "{'Frank': 79, 'Adele': 86, 'Mark': 89, 'Bridget': 82}"
      ]
     },
     "execution_count": 17,
     "metadata": {},
     "output_type": "execute_result"
    }
   ],
   "source": [
    "dict(zip(names,grades))"
   ]
  },
  {
   "cell_type": "code",
   "execution_count": 33,
   "metadata": {},
   "outputs": [
    {
     "name": "stdout",
     "output_type": "stream",
     "text": [
      "[('Frank', 79), ('Adele', 86), ('Mark', 89), ('Bridget', 82)]\n",
      "[]\n"
     ]
    }
   ],
   "source": [
    "z = zip(names,grades)\n",
    "print(list(z))\n",
    "print(list(z))"
   ]
  }
 ],
 "metadata": {
  "kernelspec": {
   "display_name": "Python 3",
   "language": "python",
   "name": "python3"
  },
  "language_info": {
   "codemirror_mode": {
    "name": "ipython",
    "version": 3
   },
   "file_extension": ".py",
   "mimetype": "text/x-python",
   "name": "python",
   "nbconvert_exporter": "python",
   "pygments_lexer": "ipython3",
   "version": "3.6.8"
  }
 },
 "nbformat": 4,
 "nbformat_minor": 2
}
