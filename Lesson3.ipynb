{
 "cells": [
  {
   "cell_type": "markdown",
   "metadata": {},
   "source": [
    "<center>\n",
    "    <h1>\n",
    "            Introduction to Python\n",
    "    </h1></center><p><p>\n",
    "\n",
    "<h3>Lesson three: List Comprehensions and Libraries</h3>\n",
    "\n",
    "25/03/2019\n",
    "\n",
    "fabio.grassi@aalto.fi"
   ]
  },
  {
   "cell_type": "markdown",
   "metadata": {},
   "source": [
    "## 1.0: Last week's episode\n",
    "\n",
    "In the previous lesson we learned about functions and lambda expressions, how we can use them to store blocks of code which we can then reuse at any time, and how we can pass arguments to functions."
   ]
  },
  {
   "cell_type": "markdown",
   "metadata": {},
   "source": [
    "## 1.1: List Comprehensions\n",
    "\n",
    "List comprehensions are a very useful tool in Python which allows to write very concise code. It is not strictly necessary to use them, but they are very common, and you should at least know what they are in case you encounter them while using code written by someone else.\n",
    "\n",
    "Suppose we had the following list:\n",
    "\n",
    "    mylist = [10,-1,20,-2,30,-3]\n",
    "    \n",
    "If we wanted to add +1 to every item in the list and use these values to creata new list, we could easily do so with a for loop:"
   ]
  },
  {
   "cell_type": "code",
   "execution_count": 1,
   "metadata": {},
   "outputs": [
    {
     "name": "stdout",
     "output_type": "stream",
     "text": [
      "Old list: [10, -1, 20, -2, 30, -3]\n",
      "New list: [11, 0, 21, -1, 31, -2]\n"
     ]
    }
   ],
   "source": [
    "mylist = [10,-1,20,-2,30,-3] # First we declare our list.\n",
    "\n",
    "print(\"Old list:\", mylist)\n",
    "\n",
    "newlist = []\n",
    "\n",
    "for i in mylist:\n",
    "    newitem = i + 1\n",
    "    newlist.append(newitem)\n",
    "\n",
    "print(\"New list:\", newlist)"
   ]
  },
  {
   "cell_type": "markdown",
   "metadata": {},
   "source": [
    "And indeed, it works as expected. There is, however, a way to write the very same for loop in just one line of code:"
   ]
  },
  {
   "cell_type": "code",
   "execution_count": 2,
   "metadata": {},
   "outputs": [
    {
     "name": "stdout",
     "output_type": "stream",
     "text": [
      "Old list: [10, -1, 20, -2, 30, -3]\n",
      "List comprehension: [11, 0, 21, -1, 31, -2]\n"
     ]
    }
   ],
   "source": [
    "print(\"Old list:\", mylist)\n",
    "\n",
    "comprehension = [1 + i for i in mylist]\n",
    "\n",
    "print(\"List comprehension:\",comprehension)"
   ]
  },
  {
   "cell_type": "markdown",
   "metadata": {},
   "source": [
    "It seems we got exactly the same result as before. We can verify this by typing:"
   ]
  },
  {
   "cell_type": "code",
   "execution_count": 3,
   "metadata": {},
   "outputs": [
    {
     "data": {
      "text/plain": [
       "True"
      ]
     },
     "execution_count": 3,
     "metadata": {},
     "output_type": "execute_result"
    }
   ],
   "source": [
    "newlist == comprehension"
   ]
  },
  {
   "cell_type": "markdown",
   "metadata": {},
   "source": [
    "And indeed, we now have confirmation that the two methods are equivalent. A **list comprehension** is a way to generate a list, which enables us to use some control flow tools directly inside the list itself. Like any other list, it begins and ends with square brackets. Inside the brackets we have an iterator, which in our case was called <i>i</i>, followed by a **for** statement.\n",
    "\n",
    "Exercises:\n",
    "\n",
    "Given the list l = [1,2,3,4,5], use a list comprehension to create a new list in which every item in l is multiplied by 10."
   ]
  },
  {
   "cell_type": "code",
   "execution_count": 4,
   "metadata": {},
   "outputs": [
    {
     "name": "stdout",
     "output_type": "stream",
     "text": [
      "[10, 20, 30, 40, 50]\n"
     ]
    }
   ],
   "source": [
    "l = [1,2,3,4,5]\n",
    "\n",
    "compl = [myiterator * 10 for myiterator in l]\n",
    "\n",
    "print(compl)"
   ]
  },
  {
   "cell_type": "markdown",
   "metadata": {},
   "source": [
    "Let us look a few more comparisons:"
   ]
  },
  {
   "cell_type": "code",
   "execution_count": 5,
   "metadata": {},
   "outputs": [
    {
     "name": "stdout",
     "output_type": "stream",
     "text": [
      "[0, 1, 2, 3, 4]\n"
     ]
    },
    {
     "data": {
      "text/plain": [
       "True"
      ]
     },
     "execution_count": 5,
     "metadata": {},
     "output_type": "execute_result"
    }
   ],
   "source": [
    "# Creating a list with the numbers 0 to 4, first with a for loop, then with a list comprehension.\n",
    "\n",
    "somelist = []\n",
    "\n",
    "for bla in range(5):\n",
    "    somelist.append(bla)\n",
    "\n",
    "print(somelist)\n",
    "\n",
    "somelc = [bla for bla in range(5)]\n",
    "\n",
    "somelist == somelc"
   ]
  },
  {
   "cell_type": "code",
   "execution_count": 6,
   "metadata": {},
   "outputs": [
    {
     "name": "stdout",
     "output_type": "stream",
     "text": [
      "[0, 1, 4, 9, 16, 25, 36, 49, 64, 81, 100]\n"
     ]
    },
    {
     "data": {
      "text/plain": [
       "True"
      ]
     },
     "execution_count": 6,
     "metadata": {},
     "output_type": "execute_result"
    }
   ],
   "source": [
    "# Creating a list with the squares of integers from 0 to 10, first with a for loop, then with a list comprehension.\n",
    "\n",
    "squares = []\n",
    "\n",
    "for i in range(11):\n",
    "    squares.append(i*i)\n",
    "\n",
    "print(squares)\n",
    "\n",
    "lcsquares = [i*i for i in range(11)]\n",
    "\n",
    "squares == lcsquares"
   ]
  },
  {
   "cell_type": "code",
   "execution_count": 7,
   "metadata": {},
   "outputs": [
    {
     "name": "stdout",
     "output_type": "stream",
     "text": [
      "['0', '1', '2', '3', '4']\n"
     ]
    },
    {
     "data": {
      "text/plain": [
       "True"
      ]
     },
     "execution_count": 7,
     "metadata": {},
     "output_type": "execute_result"
    }
   ],
   "source": [
    "# Creating a list with numbers 0 to 4 converted to string type, first with a for loop, then with a list comprehension.\n",
    "\n",
    "tostr = []\n",
    "\n",
    "for i in range(5):\n",
    "    x = str(i)\n",
    "    tostr.append(x)\n",
    "    \n",
    "print(tostr)\n",
    "\n",
    "lctostr = [str(i) for i in range(5)]\n",
    "\n",
    "tostr == lctostr"
   ]
  },
  {
   "cell_type": "markdown",
   "metadata": {},
   "source": [
    "List comprehensions can also provide more flexibility: **if ... else** statements can be used in conjunction with for loops. Let's go back to our first list:"
   ]
  },
  {
   "cell_type": "code",
   "execution_count": 8,
   "metadata": {},
   "outputs": [
    {
     "name": "stdout",
     "output_type": "stream",
     "text": [
      "[10, -1, 20, -2, 30, -3]\n"
     ]
    }
   ],
   "source": [
    "print(mylist)"
   ]
  },
  {
   "cell_type": "markdown",
   "metadata": {},
   "source": [
    "In this list, we have both positive and negative numbers. Suppose we only wanted the positive numbers, we already know how to do this by including an if statement in a standard for loop, but we can also use list comprehensions:"
   ]
  },
  {
   "cell_type": "code",
   "execution_count": 9,
   "metadata": {},
   "outputs": [
    {
     "name": "stdout",
     "output_type": "stream",
     "text": [
      "[10, 20, 30]\n"
     ]
    },
    {
     "data": {
      "text/plain": [
       "True"
      ]
     },
     "execution_count": 9,
     "metadata": {},
     "output_type": "execute_result"
    }
   ],
   "source": [
    "# First the for loop.\n",
    "\n",
    "onlypositives = []\n",
    "\n",
    "for i in mylist:\n",
    "    if i > 0:\n",
    "        onlypositives.append(i)\n",
    "        \n",
    "print(onlypositives)\n",
    "\n",
    "# And now the list comprehension.\n",
    "\n",
    "lconlypositives = [i for i in mylist if i > 0]\n",
    "\n",
    "onlypositives == lconlypositives"
   ]
  },
  {
   "cell_type": "markdown",
   "metadata": {},
   "source": [
    "A few words about the syntax: here we used the **if** statement after the **for** statement. This means that everything preceding the if statement will be executed only when the condition specified (i.e. i > 0) is verified, meaning that it acts as a filter.\n",
    "\n",
    "Exercise:\n",
    "\n",
    "Given the dictionary ratings = {\"Ghostbusters\":5, \"Titanic\":2, \"Back to the Future\":5, \"Spider Man\": 1}, use an if statement with a list comprehension to select only movies with score == 5.\n",
    "<br><br><br>"
   ]
  },
  {
   "cell_type": "code",
   "execution_count": 10,
   "metadata": {},
   "outputs": [
    {
     "name": "stdout",
     "output_type": "stream",
     "text": [
      "['Ghostbusters', 'Back to the Future']\n"
     ]
    }
   ],
   "source": [
    "ratings = {\"Ghostbusters\":5, \"Titanic\":2, \"Back to the Future\":5, \"Spider Man\": 1}\n",
    "\n",
    "onlythegoodones = [i for i in ratings if ratings[i] == 5]\n",
    "\n",
    "print(onlythegoodones)"
   ]
  },
  {
   "cell_type": "markdown",
   "metadata": {},
   "source": [
    "We can also put **if** statements before **for** statements, but then the expression will not be filtered: and because something will happen for every value of i, we will need to include at least one **else** statement to catch all values of i where the condition is false. Let us look at a few examples:"
   ]
  },
  {
   "cell_type": "code",
   "execution_count": 11,
   "metadata": {},
   "outputs": [
    {
     "name": "stdout",
     "output_type": "stream",
     "text": [
      "[1, 1]\n",
      "['yes', 'yes', 'yes', 'yes', 'no', 'no', 'yes']\n"
     ]
    }
   ],
   "source": [
    "helsinkitemperatures = [-9,-7,-10,-4,1,1,-9]\n",
    "\n",
    "above0 = [i for i in helsinkitemperatures if i >= 0]\n",
    "\n",
    "print(above0)\n",
    "\n",
    "icy = [\"yes\" if i < 0 else \"no\" for i in helsinkitemperatures]\n",
    "\n",
    "print(icy)"
   ]
  },
  {
   "cell_type": "markdown",
   "metadata": {},
   "source": [
    "Again, note that when we use **if** before **for**, we need an **else**. We can also have multiple **if ... else** statements in the same list comprehension: "
   ]
  },
  {
   "cell_type": "code",
   "execution_count": 12,
   "metadata": {},
   "outputs": [
    {
     "name": "stdout",
     "output_type": "stream",
     "text": [
      "Temp.\tIcy\tFeels\n",
      "-9 \t yes \t just right\n",
      "-7 \t yes \t just right\n",
      "-10 \t yes \t slightly chilly\n",
      "-4 \t yes \t just right\n",
      "1 \t no \t hot\n",
      "1 \t no \t hot\n",
      "-9 \t yes \t just right\n"
     ]
    }
   ],
   "source": [
    "feels = [\"hot\" if i > 0 else \"just right\" if i > -10 else \"slightly chilly\" for i in helsinkitemperatures]\n",
    "\n",
    "# Now let's print them side by side and see what happened.\n",
    "\n",
    "print(\"Temp.\\tIcy\\tFeels\") # Note: \\t stands for \"tab\". It leaves empty space.\n",
    "for i in range(len(feels)):\n",
    "    print(helsinkitemperatures[i], \"\\t\", icy[i], \"\\t\", feels[i])"
   ]
  },
  {
   "cell_type": "markdown",
   "metadata": {},
   "source": [
    "Naturally, the two can also be combined: you can have if statements both before and after the for statement. For example, we could add an if statement at the end of the list comprehension above to filter out hot days:"
   ]
  },
  {
   "cell_type": "code",
   "execution_count": 13,
   "metadata": {},
   "outputs": [
    {
     "name": "stdout",
     "output_type": "stream",
     "text": [
      "['just right', 'just right', 'slightly chilly', 'just right', 'just right']\n"
     ]
    }
   ],
   "source": [
    "nohotdays = [\"just right\" if i > -10 else \"slightly chilly\" for i in helsinkitemperatures if i < 0]\n",
    "\n",
    "print(nohotdays)"
   ]
  },
  {
   "cell_type": "markdown",
   "metadata": {},
   "source": [
    "## Exercise:\n",
    "\n",
    "To do the next exercise we are going to introduce a new operator: **modulus**. It is a very simple operator that returns the remainder of a division, for example, 5 % 2 = 1, because 5 / 2 = 2 with a remainder of 1 (2x2 + 1 = 5). 4 % 2 = 0, because 4 / 2 = 2 with no remainder (2x2 + 0 = 4), 37 % 10 = 7 (3x10 + 7 = 37), and so on. The **modulus** operator is useful for quickly determining whether a number is even or odd: x % 2 = 0 if x is even, and x % 2 = 1 if x is odd.\n",
    "\n",
    "First, use a list comprehension to create a list called *myrange* with all numbers from -10 to 10. Then, use another list to get all even numbers from myrange. Finally, use another list comprehension to create a list with all even numbers from myrange that are smaller than 0."
   ]
  },
  {
   "cell_type": "code",
   "execution_count": 14,
   "metadata": {},
   "outputs": [
    {
     "name": "stdout",
     "output_type": "stream",
     "text": [
      "[-10, -8, -6, -4, -2, 0, 2, 4, 6, 8, 10]\n",
      "[-10, -8, -6, -4, -2]\n"
     ]
    }
   ],
   "source": [
    "myrange = [i for i in range(-10,11)]\n",
    "\n",
    "even = [i for i in myrange if i % 2 == 0]\n",
    "\n",
    "negeven = [i for i in myrange if i % 2 == 0 and i < 0]\n",
    "\n",
    "print(even)\n",
    "print(negeven)"
   ]
  },
  {
   "cell_type": "markdown",
   "metadata": {},
   "source": [
    " ## Libraries"
   ]
  },
  {
   "cell_type": "markdown",
   "metadata": {},
   "source": [
    "So far we have learned how to write code ourselves using tools such as built in functions, custom functions, and control flow. While reinventing the wheel can be a fun and formative experience, in any kind of context where productivity is a concern, it is often best to reuse code that has already been tested and optimized for performance.\n",
    "\n",
    "In Python, we can do this by importing **modules**, also known as **libraries**. Let us now see how to use libraries starting with one of the most common libraries for dealing with numerical data in Python: **numpy**. Libraries are not loaded by default, and must be imported using the **import** keyword, commonly together with the **as** keyword:"
   ]
  },
  {
   "cell_type": "code",
   "execution_count": 15,
   "metadata": {},
   "outputs": [],
   "source": [
    "import numpy as np"
   ]
  },
  {
   "cell_type": "markdown",
   "metadata": {},
   "source": [
    "Using the **import** keyword, we have now imported the whole numpy library, which is now ready to use. The **as** keyword is optional, and it is used to rename the module to something else (in this case, *numpy* which has been renamed to *np*, to save keystrokes).\n",
    "\n",
    "We can now harness the power of the numpy library by typing \"np.\" followed by the function we are interested in (remember that, as always, when working in a Jupyter Notebook you can see what functions are available by hitting the tab button after the dot). For example:"
   ]
  },
  {
   "cell_type": "code",
   "execution_count": 16,
   "metadata": {},
   "outputs": [
    {
     "name": "stdout",
     "output_type": "stream",
     "text": [
      "3.141592653589793\n"
     ]
    }
   ],
   "source": [
    "x = np.pi\n",
    "\n",
    "print(x)"
   ]
  },
  {
   "cell_type": "code",
   "execution_count": 17,
   "metadata": {},
   "outputs": [
    {
     "data": {
      "text/plain": [
       "1.2246467991473532e-16"
      ]
     },
     "execution_count": 17,
     "metadata": {},
     "output_type": "execute_result"
    }
   ],
   "source": [
    "np.sin(x)"
   ]
  },
  {
   "cell_type": "markdown",
   "metadata": {},
   "source": [
    "And we have a reasonable approximation of π."
   ]
  },
  {
   "cell_type": "markdown",
   "metadata": {},
   "source": [
    "Let us now look at another example:"
   ]
  },
  {
   "cell_type": "code",
   "execution_count": 18,
   "metadata": {},
   "outputs": [
    {
     "name": "stdout",
     "output_type": "stream",
     "text": [
      "Ttest_indResult(statistic=0.26568254963146987, pvalue=0.7907601314289565)\n",
      "Ttest_indResult(statistic=-67.37980807928547, pvalue=1.7694061889920114e-138)\n"
     ]
    }
   ],
   "source": [
    "from scipy import stats as st\n",
    "from scipy.stats import ttest_ind\n",
    "\n",
    "x = [np.random.normal() for i in range(100)]\n",
    "y = [np.random.normal() for i in range(100)]\n",
    "z = [np.random.normal(10) for i in range(100)]\n",
    "\n",
    "print(st.ttest_ind(x,y))\n",
    "print(st.ttest_ind(x,z))"
   ]
  },
  {
   "cell_type": "markdown",
   "metadata": {},
   "source": [
    "Let us examine the code: first, we imported stats from the scipy module, using the **from** keyword. We could also have imported the whole scipy module, but it is good practice to only import the things you need, both to save memory and to minimize the risk of conflicts (e.g. accidentally importing two different functions which happen to have the same name).\n",
    "\n",
    "Then, we used list comprehensions to define three lists. Inside these lists we have used one of numpy's random number generators, using syntax **np.random.normal()**, which tells Python to look inside **np**, open the **random** sublibrary, and from there fetch the **normal()** function, which returns a random number from a gaussian distribution centered on either the default argument (0) or on a user defined value. Notice that in z we passed *10* as argument to the normal() function, meaning that the 100 values contained in z will be drawn from a normal distribution centered on 10.\n",
    "\n",
    "Lastly, we performed a Student's T test to compare the means of x vs. y, and x vs. z. We did this by calling the **ttest_ind()** function from the **stats** module which we imported earlier. Unsurprisingly, there was no statistically significant difference between x and y, whereas the difference between x and z was significant.\n",
    "\n",
    "One last word about NumPy: the main variable in NumPy is the array. An array is very similar to a list, but it has been optimized for performance. You do not need to worry too much about that, but for now, suffice to say that you can often treat arrays the same as you would lists, e.g.:"
   ]
  },
  {
   "cell_type": "markdown",
   "metadata": {},
   "source": [
    "## Optional Exercises:\n",
    "\n",
    "1) Using a list comprehension, create an array (so, np.array([your list comprehension here])) with 10 random integers between -100 and 100, using the np.random.randint() function.\n",
    "\n",
    "2) Use np.mean(), np.median() to get some information about the array you just created. \n",
    "\n",
    "3) Use another list comprehension to filter out all negative values from your array.\n",
    "\n",
    "4) Using a list comprehension, create an array with 100 random numbers taken from a normal distribution.\n",
    "\n",
    "5) Define a function that calculates the standard deviation, and then use it on the array you just created (remember, the formula is sqrt(sum(x_i - x_mean)**2 / n). You can calculate the sum of the squared residuals with sum() or np.sum(), and the mean of x using the built-in .mean() method, or np.mean(). \n",
    "\n",
    "6) Now use numpy's std() function to verify that your result is correct.\n",
    "\n",
    "<br><br><br><br><br><br><br><br><br><br><br><br>"
   ]
  },
  {
   "cell_type": "code",
   "execution_count": 1,
   "metadata": {},
   "outputs": [
    {
     "name": "stdout",
     "output_type": "stream",
     "text": [
      "-15.7 -21.5\n",
      "1.0199854199276157\n",
      "1.0199854199276157\n"
     ]
    }
   ],
   "source": [
    "# Solutions\n",
    "\n",
    "# 1\n",
    "\n",
    "import numpy as np\n",
    "\n",
    "myarray = np.array([np.random.randint(-100,101) for i in range(10)])\n",
    "\n",
    "# 2\n",
    "\n",
    "print(np.mean(myarray),np.median(myarray))\n",
    "\n",
    "# 3\n",
    "\n",
    "positives = [i for i in myarray if i >= 0]\n",
    "\n",
    "# 4\n",
    "\n",
    "randnorm = np.array([np.random.normal() for i in range(100)])\n",
    "\n",
    "# 5\n",
    "\n",
    "def stdev(x):\n",
    "    num = []\n",
    "    den = len(x)\n",
    "    for i in x:\n",
    "        num.append((i-np.mean(x))**2)\n",
    "    sumnum = np.sum(num)\n",
    "    return np.sqrt(np.sum(num)/den)\n",
    "\n",
    "# Or, alternatively:\n",
    "\n",
    "stdev2 = lambda x: np.sqrt(np.sum([(i-np.mean(x))**2 for i in x])/len(x))\n",
    "\n",
    "# 6\n",
    "\n",
    "print(stdev(randnorm))\n",
    "print(np.std(randnorm))"
   ]
  },
  {
   "cell_type": "markdown",
   "metadata": {},
   "source": [
    "And next lesson, Pandas!\n",
    "\n",
    "![Pandas](https://giant.gfycat.com/AthleticLittleHorseshoecrab.gif)\n",
    "![Pandas](https://preview.redd.it/g4h0lnp2wqk21.jpg?width=614&auto=webp&s=1fc6477e65a87eb3aba4ba82a2680ca8d127940c)"
   ]
  }
 ],
 "metadata": {
  "kernelspec": {
   "display_name": "Python 3",
   "language": "python",
   "name": "python3"
  },
  "language_info": {
   "codemirror_mode": {
    "name": "ipython",
    "version": 3
   },
   "file_extension": ".py",
   "mimetype": "text/x-python",
   "name": "python",
   "nbconvert_exporter": "python",
   "pygments_lexer": "ipython3",
   "version": "3.6.8"
  }
 },
 "nbformat": 4,
 "nbformat_minor": 2
}
